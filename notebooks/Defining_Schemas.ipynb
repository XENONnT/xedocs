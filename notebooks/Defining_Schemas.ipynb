{
 "cells": [
  {
   "cell_type": "markdown",
   "id": "2b627d1b-edc1-49f7-b37c-8eacbde80359",
   "metadata": {},
   "source": [
    "### Defining your own schemas!"
   ]
  },
  {
   "cell_type": "markdown",
   "id": "40692676-2fad-4cdf-987b-3c2bb7aa237b",
   "metadata": {},
   "source": [
    "Lets say you find something new about the detector, some conditions that need to be corrrected for but we currently do not have a plave to store this kind of data for use, what do we do? We make out own schema!"
   ]
  },
  {
   "cell_type": "markdown",
   "id": "fd9521c2-ca94-4c6d-bda7-c524f4c26bfb",
   "metadata": {},
   "source": [
    "You do not have to start from scratch, there are many kinds of shcemas, from the bare bones base_schemas, to once with multiple inheritance like Base_Maps, you first need to indentify what kind of correction you want to make so you know what shcema you want to inherit from, for this you need to ask the following questions:\n",
    "- Is the correction going to be one which we wnat to interpolate in time or do we want to use time intervals?\n",
    "- What kind of data will you be storing? Map data? single numbers?\n",
    "- Do you need to add any new indecies to your correction that no other has before?"
   ]
  },
  {
   "cell_type": "code",
   "execution_count": null,
   "id": "bb6684fa-5cb8-48e0-a21f-8d9df5e299da",
   "metadata": {},
   "outputs": [],
   "source": [
    "import straxen\n",
    "import xedocs as xd\n",
    "import rframe"
   ]
  },
  {
   "cell_type": "code",
   "execution_count": null,
   "id": "041e9d11-c577-4409-82c3-ad59c62a6b8a",
   "metadata": {},
   "outputs": [],
   "source": [
    "straxen.print_versions('rframe xedocs'.split())"
   ]
  },
  {
   "cell_type": "code",
   "execution_count": null,
   "id": "fd9cf08a-3025-4a7d-99da-e477b4d32075",
   "metadata": {},
   "outputs": [],
   "source": [
    "xd_db = xd.development_db.utilix"
   ]
  },
  {
   "cell_type": "code",
   "execution_count": null,
   "id": "18080b3c-77b8-4324-a9bd-34198f407f0c",
   "metadata": {},
   "outputs": [],
   "source": [
    "# Lets make a new Schema\n",
    "class NewCorrection(xd.schemas.corrections.TimeSampledCorrection):\n",
    "    \"\"\"\n",
    "    TimeSampledCorrections allow us to interpolate data in time.\n",
    "    This function will inherit all the properties of TimeSampledCorrections.\n",
    "    Here you can define your own functions, new indecies or anything else you might need!\n",
    "    \n",
    "    One requierment that all newly defined correction classes must have is an ALIAS\n",
    "    \"\"\"\n",
    "    \n",
    "    # We give a class and alias by setting _ALIAS equal to the name\n",
    "    # By convention we make alias all lower caps, with underscors (_) to separate words\n",
    "    _ALIAS = 'new_corrections'\n",
    "    \n",
    "    # Lets say we want this correction to have a new index depth!\n",
    "    # For this we do the following\n",
    "    \n",
    "    value: int\n",
    "    \n",
    "    depth: int = rframe.Index()\n",
    "    \n",
    "    # Setting the new variable = rframe.Index() lets xedocs know that this varaible\n",
    "    # Should be treated as an index and will be requiered any new values of this correction \n",
    "    # Is made.\n",
    "    \n",
    "    # As mentions before we can even give it new functions as we see fit!\n",
    "    def neg_data(value):\n",
    "        return(-value)\n",
    "        "
   ]
  },
  {
   "cell_type": "markdown",
   "id": "38bd68c0-af95-4267-b785-815768db75d5",
   "metadata": {},
   "source": [
    "Xedocs automaticall registers any schemas you create so you can access the data right away!"
   ]
  },
  {
   "cell_type": "code",
   "execution_count": null,
   "id": "3f63d340-a511-498d-88d5-6a6280aeea5e",
   "metadata": {},
   "outputs": [],
   "source": [
    "xd_db.new_corrections.find_docs(version = 'v1')"
   ]
  },
  {
   "cell_type": "code",
   "execution_count": null,
   "id": "9c63c652-4e22-4668-986b-1ad253b1abab",
   "metadata": {},
   "outputs": [],
   "source": []
  }
 ],
 "metadata": {
  "kernelspec": {
   "display_name": "Python [conda env:strax]",
   "language": "python",
   "name": "conda-env-strax-py"
  },
  "language_info": {
   "codemirror_mode": {
    "name": "ipython",
    "version": 3
   },
   "file_extension": ".py",
   "mimetype": "text/x-python",
   "name": "python",
   "nbconvert_exporter": "python",
   "pygments_lexer": "ipython3",
   "version": "3.8.13"
  }
 },
 "nbformat": 4,
 "nbformat_minor": 5
}
