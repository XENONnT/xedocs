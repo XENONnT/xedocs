{
 "cells": [
  {
   "cell_type": "code",
   "execution_count": null,
   "id": "083c70e0-3077-45ae-a399-cc655d091cac",
   "metadata": {},
   "outputs": [],
   "source": [
    "import datetime\n",
    "import xedocs"
   ]
  },
  {
   "cell_type": "code",
   "execution_count": null,
   "id": "3391c2fc-f269-497d-bbf6-584a7d260677",
   "metadata": {},
   "outputs": [],
   "source": [
    "# Create an arbitrary datetime object to demonstrate time based queries \n",
    "dtime = datetime.datetime(2020, 5, 16, 13, 10, 4, 781502)"
   ]
  },
  {
   "cell_type": "markdown",
   "id": "7efd15ab",
   "metadata": {},
   "source": [
    "# Introduction\n",
    "Processing XENON data requires a large amount of detector parameters, correction information and other metadata not produced in the plugin dependency chain. These metadata collections have unique version control requirements. The xedocs package is a collection of schemas and interfaces for accessing this data from multiple data sources such as mongodb, pandas dataframes and API servers. The schema definition enforces consistent and uniform data and the common interface prevents hard coding of data access details in the plugins, notebooks and scripts that use the data. This allows analysts to easily switch out the data source for eg testing, development or when a database connection is not available."
   ]
  },
  {
   "cell_type": "markdown",
   "id": "3960fa8a-26cc-475e-8f7f-4b6603e9eed9",
   "metadata": {},
   "source": [
    "## Indexed documents\n",
    "The scope of xedocs has been generalized to include all indexed metadata, including versioned metadata. A collection of documents has at least one index field and a common schema for all documents. The set of all index fields for each document of a given schema must be unique. By default correction collections are insert-only, meaning you cannot change the values for an already set index.\n",
    "All schemas in xedocs should inherit from `xedocs.schemas.XeDoc` or one of its subclasses."
   ]
  },
  {
   "cell_type": "markdown",
   "id": "558d4b32-5a27-4785-9bf9-b52894a9cd6e",
   "metadata": {},
   "source": [
    "## Detector Numbers (Bodega)\n",
    "Bodega (detector parameters) is a simple example of a collection of versioned documents which share a common schema. The first step in migrating Bodega to xedocs is defining the schema, this code can be found in `xedocs/schema/detector_numbers.py`\n",
    "\n",
    "```python\n",
    "\n",
    "import rframe\n",
    "import datetime\n",
    "\n",
    "from .base_schemas import VersionedXeDoc\n",
    "from .constants import PARTITION\n",
    "\n",
    "\n",
    "class DetectorNumber(VersionedXeDoc):\n",
    "    \"\"\"Detector parameters\n",
    "    A characteristic value of our detector \n",
    "    used in analysis, that is constant in time.\n",
    "    \"\"\"\n",
    "\n",
    "    _ALIAS = \"detector_numbers\"\n",
    "\n",
    "    field: str = rframe.Index(max_length=80)\n",
    "    partition: PARTITION = rframe.Index(default=\"all_tpc\")\n",
    "\n",
    "    value: float\n",
    "    uncertainty: float\n",
    "    definition: str\n",
    "    reference: str = \"\"\n",
    "    date: datetime.datetime\n",
    "    comments: str = \"\"\n",
    "\n",
    "\n",
    "```\n",
    "\n",
    "Notice that we inherit from the `VersionedXeDoc` class, so the `version` field is already defined for us. We add an additional index called `field` which will store the field name of the document. The rest of the schema is simply copied from the structure of the bodega json collection. Standard python type hints can be used to enforce the field types. All `pydantic` fields are supported by the framework but a given data storage backend may have some constraints.\n"
   ]
  },
  {
   "cell_type": "markdown",
   "id": "325599fd",
   "metadata": {},
   "source": [
    "### Reistering a datasource\n",
    "\n",
    "Datasources can be registered with the `register_datasource` method. This method takes any supported datasource such as a pandas dataframe, a mongodb collection, json list or an fsspec path to a file:\n",
    "\n",
    "```python\n",
    "Schema.register_datasource('github://org:repo@/path/to/file.csv', name='github')\n",
    "```"
   ]
  },
  {
   "cell_type": "markdown",
   "id": "c20af993",
   "metadata": {},
   "source": [
    "### Query interface\n",
    "Querying a specific datasource can be done using the query api. `Schema.datasource.find_docs(version='v1', field=...)` will return a list of matching documents and `Schema.datasource.find_one(datasource, version='v1', field=...)` will return the first match. Each document will be an instance of the schema class. If you do not pass a datasource to the query methods, the default datasource will be queried."
   ]
  },
  {
   "cell_type": "code",
   "execution_count": null,
   "id": "cfebbcd5",
   "metadata": {},
   "outputs": [],
   "source": [
    "from xedocs.schemas import DetectorNumber"
   ]
  },
  {
   "cell_type": "code",
   "execution_count": null,
   "id": "d6096c3c",
   "metadata": {},
   "outputs": [],
   "source": [
    "drift_velocities = DetectorNumber.staging_db.find_docs(field='drift_velocity')\n",
    "drift_velocity = drift_velocities[0]"
   ]
  },
  {
   "cell_type": "code",
   "execution_count": null,
   "id": "d7fe0ecd-5b0b-4428-890b-57f8ae860211",
   "metadata": {},
   "outputs": [],
   "source": [
    "drift_velocity = DetectorNumber.staging_db.find_one(field='drift_velocity', version='v1')\n",
    "drift_velocity"
   ]
  },
  {
   "cell_type": "code",
   "execution_count": null,
   "id": "4ddacb5b-5ad1-41a1-9581-e15602297822",
   "metadata": {},
   "outputs": [],
   "source": [
    "v1_df = DetectorNumber.staging_db.find_df(version='v1')\n",
    "v1_df"
   ]
  },
  {
   "cell_type": "code",
   "execution_count": null,
   "id": "bc132c9a-db43-421a-b590-dc27afacdea5",
   "metadata": {},
   "outputs": [],
   "source": [
    "# Document fields can be accessed as attributes\n",
    "drift_velocity.value"
   ]
  },
  {
   "cell_type": "code",
   "execution_count": null,
   "id": "0ee53da3-f6a1-4813-b5df-fc896fd0ab50",
   "metadata": {},
   "outputs": [],
   "source": [
    "# convert to python dictionary\n",
    "drift_velocity.dict()\n",
    "\n",
    "# convert to json string\n",
    "print(drift_velocity.json(indent=1))"
   ]
  },
  {
   "cell_type": "markdown",
   "id": "f683eeb5",
   "metadata": {},
   "source": [
    "## Datasource contexts\n",
    "To easily access common datasources, you can load the appropriate context and use tab completion to discover registered datasets."
   ]
  },
  {
   "cell_type": "code",
   "execution_count": null,
   "id": "de0a94d8",
   "metadata": {},
   "outputs": [],
   "source": [
    "import xedocs\n",
    "\n",
    "# Production DB\n",
    "db = xedocs.production_db()\n",
    "\n",
    "\n",
    "# Staging DB\n",
    "db = xedocs.staging_db() \n",
    "\n",
    "\n",
    "doc = db.pmt_gains.find_one(version='v1', pmt=0, run_id='020000')\n",
    "doc"
   ]
  },
  {
   "cell_type": "markdown",
   "id": "02cf815b-0684-4b47-9e8c-f2e52611d4d7",
   "metadata": {},
   "source": [
    "## Operation reports\n",
    "Xedocs is also used to store metadata about operations relavent to analysis, such as Anode ramps and calibrations.\n",
    "You can find these datasets with xedocs."
   ]
  },
  {
   "cell_type": "markdown",
   "id": "4637dc6f-2554-4ee3-9acc-c6ed29430ef4",
   "metadata": {},
   "source": [
    "### Anode ramps"
   ]
  },
  {
   "cell_type": "code",
   "execution_count": null,
   "id": "d0b54618-3e4c-4ac4-bb07-4b99614a988b",
   "metadata": {},
   "outputs": [],
   "source": [
    "db.anode_ramps.find_df()"
   ]
  },
  {
   "cell_type": "markdown",
   "id": "191752ab-8609-4f43-9919-53787effdc27",
   "metadata": {},
   "source": [
    "### U-tube calibrations"
   ]
  },
  {
   "cell_type": "code",
   "execution_count": null,
   "id": "24ef9499-60e4-4405-9101-99eb6f68e196",
   "metadata": {},
   "outputs": [],
   "source": [
    "db.utube_calibrations.find_df()"
   ]
  },
  {
   "cell_type": "markdown",
   "id": "f36c213f-06e3-4f7e-8507-3a2da68b934d",
   "metadata": {},
   "source": [
    "## Fax Configs\n",
    "The WFSim configuration has also been migrated to the CMT2.0 framework in `xedocs/schemas/fax.py`, the schema definition is as followes:\n",
    "\n",
    "```python\n",
    "from typing import Literal, Union\n",
    "\n",
    "import rframe\n",
    "\n",
    "from .base_schemas import VersionedXeDoc\n",
    "\n",
    "\n",
    "class FaxConfig(VersionedXeDoc):\n",
    "    \"\"\"fax configuration values for WFSim\"\"\"\n",
    "\n",
    "    _ALIAS = \"fax_configs\"\n",
    "\n",
    "    class Config:\n",
    "        smart_union = True\n",
    "\n",
    "    field: str = rframe.Index()\n",
    "    experiment: Literal[\"1t\", \"nt\", \"nt_design\"] = rframe.Index(default=\"nt\")\n",
    "    detector: Literal[\"tpc\", \"muon_veto\", \"neutron_veto\"] = rframe.Index(default=\"tpc\")\n",
    "    science_run: str = rframe.Index()\n",
    "    version: str = rframe.Index(default=\"v1\")\n",
    "\n",
    "    value: Union[int, float, bool, str, list, dict]\n",
    "    resource: str\n",
    "\n",
    "\n",
    "```\n",
    "\n",
    "In this case the documents are also indexed by experiment, detector, and science run."
   ]
  },
  {
   "cell_type": "code",
   "execution_count": null,
   "id": "b399b433-d2c1-4a89-b598-df2dff96305b",
   "metadata": {},
   "outputs": [],
   "source": [
    "\n",
    "s2_secondary_sc_gain = db.fax_configs.find_one(field='s2_secondary_sc_gain', version='v0')\n",
    "s2_secondary_sc_gain.value"
   ]
  },
  {
   "cell_type": "code",
   "execution_count": null,
   "id": "de851d08-17ea-4b3a-8381-43d41340f3b1",
   "metadata": {},
   "outputs": [],
   "source": [
    "# Get results as a dataframe\n",
    "\n",
    "fax_configs = db.fax_configs.find_df(experiment='nt', version='v0')\n",
    "fax_configs"
   ]
  },
  {
   "cell_type": "markdown",
   "id": "1db261f3-92a7-4613-9b90-680a4d707159",
   "metadata": {},
   "source": [
    "# RemoteFrame: pandas/xarray interface\n",
    "For convenience additional query APIs are implemented inspired for the pandas and xarray packages. Most of these methods return a padnas dataframe with the requested data selection."
   ]
  },
  {
   "cell_type": "code",
   "execution_count": null,
   "id": "d93b8cc5-4082-4681-998c-b0aa9f36bff9",
   "metadata": {},
   "outputs": [],
   "source": [
    "# The straxen.frames namespace holds a collection\n",
    "# of remote frames for all defined corrections\n",
    "\n",
    "rf = db.pmt_gains.rframe"
   ]
  },
  {
   "cell_type": "code",
   "execution_count": null,
   "id": "36fb036b-3a5a-4941-83db-b9a3f7599b7f",
   "metadata": {},
   "outputs": [],
   "source": [
    "db.pmt_gains.find_dicts(detector='tpc', version='v1', limit=2)"
   ]
  },
  {
   "cell_type": "markdown",
   "id": "4572e5b0-d325-4f0f-af57-7e882768bc06",
   "metadata": {},
   "source": [
    "### xarray api"
   ]
  },
  {
   "cell_type": "code",
   "execution_count": null,
   "id": "383e67a5-c1a0-41b2-99b2-b27f97977a04",
   "metadata": {},
   "outputs": [],
   "source": [
    "# calling the .sel() method returns a pandas\n",
    "# dataframe with the selection result\n",
    "\n",
    "df = rf.sel(detector='tpc', version='ONLINE', time=dtime)\n",
    "df"
   ]
  },
  {
   "cell_type": "markdown",
   "id": "0830c872-b46c-489a-bf9e-005bdd959002",
   "metadata": {},
   "source": [
    "### pandas api"
   ]
  },
  {
   "cell_type": "code",
   "execution_count": null,
   "id": "69238cdf-0206-4a7f-94a6-24111f2604be",
   "metadata": {},
   "outputs": [],
   "source": [
    "# pandas style multi-indexing also returns a pandas\n",
    "# dataframe with the selection result\n",
    "\n",
    "df = rf.loc['v1',dtime,'tpc', 1]\n",
    "df"
   ]
  },
  {
   "cell_type": "markdown",
   "id": "5751f965-59c7-4a70-bdd5-589337c9f7b0",
   "metadata": {},
   "source": [
    "#### Scalar lookup"
   ]
  },
  {
   "cell_type": "code",
   "execution_count": null,
   "id": "9c51d7ee-b5e1-4838-9a7d-cb4b9143371d",
   "metadata": {},
   "outputs": [],
   "source": [
    "# pandas api\n",
    "\n",
    "gains_rf.at[('v1',dtime,'tpc',1), 'value']"
   ]
  },
  {
   "cell_type": "code",
   "execution_count": null,
   "id": "a70f0e29-06e6-42ce-a234-415848f77de3",
   "metadata": {},
   "outputs": [],
   "source": [
    "# simple callable\n",
    "\n",
    "gains_rf('value', detector='tpc', version='v1', time=dtime, pmt=1)"
   ]
  },
  {
   "cell_type": "markdown",
   "id": "736e0645",
   "metadata": {},
   "source": [
    "### Inserting new documents\n",
    "New documents can be saved either by creating a new instance of the Schema class and calling the `.save(datasource)` method or by calling the `insert(docs)` method on the datasource accessor.\n",
    "\n",
    "Before inserting the new data, xedocs will run any checks defined on the schema and raise an error if any check fails."
   ]
  },
  {
   "cell_type": "code",
   "execution_count": null,
   "id": "35472308-c1b5-4bef-8a8a-8c2e226c3e56",
   "metadata": {},
   "outputs": [],
   "source": [
    "data = {'pmt': 0, 'value': 1.0, 'version': 'test', 'time': dtime, 'detector': 'tpc'}\n",
    "# db.pmt_gains.insert(data)"
   ]
  },
  {
   "cell_type": "markdown",
   "id": "38f442e5-03f3-4fda-8299-fdedf35a1667",
   "metadata": {},
   "source": [
    "### Saving to a local database\n",
    "You can create a new document and call the `.save` method with any supported writable datasource"
   ]
  },
  {
   "cell_type": "code",
   "execution_count": null,
   "id": "3c199709",
   "metadata": {},
   "outputs": [],
   "source": [
    "import pymongo\n",
    "from xedocs.schemas import PmtGain\n",
    "\n",
    "datasource = pymongo.MongoClient('mongodb://localhost:27017')['xedocs']['pmt_gains']\n",
    "\n",
    "doc = PmtGain(**data)\n",
    "doc.save(datasource)"
   ]
  }
 ],
 "metadata": {
  "interpreter": {
   "hash": "8d4a9e3b1cf48e7d8286c31499bf7742482148cf175b8290d37db65f7b4a0399"
  },
  "kernelspec": {
   "display_name": "xedocs",
   "language": "python",
   "name": "xedocs"
  },
  "language_info": {
   "codemirror_mode": {
    "name": "ipython",
    "version": 3
   },
   "file_extension": ".py",
   "mimetype": "text/x-python",
   "name": "python",
   "nbconvert_exporter": "python",
   "pygments_lexer": "ipython3",
   "version": "3.9.7"
  }
 },
 "nbformat": 4,
 "nbformat_minor": 5
}
