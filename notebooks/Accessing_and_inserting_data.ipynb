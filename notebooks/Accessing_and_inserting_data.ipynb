{
 "cells": [
  {
   "cell_type": "markdown",
   "id": "10b64759-6bb7-4bd6-98cd-2e6f9a02faa0",
   "metadata": {},
   "source": [
    "# Xedocs user guide"
   ]
  },
  {
   "cell_type": "markdown",
   "id": "23bf2c2c-32dd-4f58-9ece-260957e799ca",
   "metadata": {},
   "source": [
    "This tutorial serves as a basic introduction to xedocs. Xedocs is the replacement of CMT (Correction Management System) and will be used moving forward to store, save and access correction data as well as other metadata needed for the XENONnT experiment moving forward. The main goal with xedocs was to have a system with the following requierments: We want versioned data that is flexible enough to adapt to future changes, to have insertion rules and to follow time dependace requirements. "
   ]
  },
  {
   "cell_type": "code",
   "execution_count": 1,
   "id": "35e7ee98-8aa1-423a-be13-6df32a6e51b4",
   "metadata": {},
   "outputs": [],
   "source": [
    "import strax\n",
    "import straxen\n",
    "import xedocs as xd\n",
    "import numpy as np\n",
    "import rframe\n",
    "import pymongo\n",
    "import matplotlib.pyplot as plt"
   ]
  },
  {
   "cell_type": "code",
   "execution_count": 2,
   "id": "a63e81e1-d7c6-4267-99a6-ffa3385a445b",
   "metadata": {},
   "outputs": [
    {
     "data": {
      "text/html": [
       "<div>\n",
       "<style scoped>\n",
       "    .dataframe tbody tr th:only-of-type {\n",
       "        vertical-align: middle;\n",
       "    }\n",
       "\n",
       "    .dataframe tbody tr th {\n",
       "        vertical-align: top;\n",
       "    }\n",
       "\n",
       "    .dataframe thead th {\n",
       "        text-align: right;\n",
       "    }\n",
       "</style>\n",
       "<table border=\"1\" class=\"dataframe\">\n",
       "  <thead>\n",
       "    <tr style=\"text-align: right;\">\n",
       "      <th></th>\n",
       "      <th>module</th>\n",
       "      <th>version</th>\n",
       "      <th>path</th>\n",
       "      <th>git</th>\n",
       "    </tr>\n",
       "  </thead>\n",
       "  <tbody>\n",
       "    <tr>\n",
       "      <th>0</th>\n",
       "      <td>python</td>\n",
       "      <td>3.9.18</td>\n",
       "      <td>/opt/XENONnT/anaconda/envs/XENONnT_2024.02.1/bin/python</td>\n",
       "      <td>None</td>\n",
       "    </tr>\n",
       "    <tr>\n",
       "      <th>1</th>\n",
       "      <td>strax</td>\n",
       "      <td>1.6.1</td>\n",
       "      <td>/opt/XENONnT/anaconda/envs/XENONnT_2024.02.1/lib/python3.9/site-packages/strax</td>\n",
       "      <td>None</td>\n",
       "    </tr>\n",
       "    <tr>\n",
       "      <th>2</th>\n",
       "      <td>straxen</td>\n",
       "      <td>2.2.1</td>\n",
       "      <td>/opt/XENONnT/anaconda/envs/XENONnT_2024.02.1/lib/python3.9/site-packages/straxen</td>\n",
       "      <td>None</td>\n",
       "    </tr>\n",
       "    <tr>\n",
       "      <th>3</th>\n",
       "      <td>rframe</td>\n",
       "      <td>0.2.20</td>\n",
       "      <td>/opt/XENONnT/anaconda/envs/XENONnT_2024.02.1/lib/python3.9/site-packages/rframe</td>\n",
       "      <td>None</td>\n",
       "    </tr>\n",
       "    <tr>\n",
       "      <th>4</th>\n",
       "      <td>xedocs</td>\n",
       "      <td>0.2.26</td>\n",
       "      <td>/home/gvolta/XENONnT/xedocs/xedocs</td>\n",
       "      <td>branch:ONLINE_corrections | 68c15d3</td>\n",
       "    </tr>\n",
       "  </tbody>\n",
       "</table>\n",
       "</div>"
      ],
      "text/plain": [
       "    module version  \\\n",
       "0   python  3.9.18   \n",
       "1    strax   1.6.1   \n",
       "2  straxen   2.2.1   \n",
       "3   rframe  0.2.20   \n",
       "4   xedocs  0.2.26   \n",
       "\n",
       "                                                                               path  \\\n",
       "0                           /opt/XENONnT/anaconda/envs/XENONnT_2024.02.1/bin/python   \n",
       "1    /opt/XENONnT/anaconda/envs/XENONnT_2024.02.1/lib/python3.9/site-packages/strax   \n",
       "2  /opt/XENONnT/anaconda/envs/XENONnT_2024.02.1/lib/python3.9/site-packages/straxen   \n",
       "3   /opt/XENONnT/anaconda/envs/XENONnT_2024.02.1/lib/python3.9/site-packages/rframe   \n",
       "4                                                /home/gvolta/XENONnT/xedocs/xedocs   \n",
       "\n",
       "                                   git  \n",
       "0                                 None  \n",
       "1                                 None  \n",
       "2                                 None  \n",
       "3                                 None  \n",
       "4  branch:ONLINE_corrections | 68c15d3  "
      ]
     },
     "execution_count": 2,
     "metadata": {},
     "output_type": "execute_result"
    }
   ],
   "source": [
    "straxen.print_versions('strax straxen rframe xedocs'.split())"
   ]
  },
  {
   "cell_type": "markdown",
   "id": "47aeff8f-5ccb-48cd-bc5f-5e2b2a7235bf",
   "metadata": {},
   "source": [
    "With xedocs we can use schemas to get different corrections from multiple sources such as bodega (refered to as 'detector numbers'), the xedocs databse, or even your own! Schemas are python classes with certain properties and functions to deal with the backend of storing data as well as rules such as preventing the deletion and overwritting of existing data!\n",
    "<br>\n",
    "Lets look at some of the schemas that are available!"
   ]
  },
  {
   "cell_type": "code",
   "execution_count": 3,
   "id": "86b916d5-01a2-40ef-8a45-4b7f20ae35df",
   "metadata": {},
   "outputs": [
    {
     "data": {
      "text/plain": [
       "['detector_numbers',\n",
       " 'context_configs',\n",
       " 'plugin_lineages',\n",
       " 'context_lineages',\n",
       " 'historian_tags',\n",
       " 'fax_configs',\n",
       " 'electron_drift_velocities',\n",
       " 'electron_drift_time_gates',\n",
       " 'electron_lifetimes',\n",
       " 'rel_extraction_effs',\n",
       " 'fdc_maps',\n",
       " 'hit_thresholds',\n",
       " 'pmt_area_to_pes',\n",
       " 'posrec_models',\n",
       " 's1_aft_xyz_maps',\n",
       " 's1_xyz_maps',\n",
       " 's2_xy_maps',\n",
       " 'se_gains',\n",
       " 'electron_diffusion_ctes',\n",
       " 'baseline_samples_nv',\n",
       " 'relative_light_yield',\n",
       " 'avg_se_gains',\n",
       " 'bayes_models',\n",
       " 'som_classifiers',\n",
       " 'hotspot_veto_thresholds',\n",
       " 'photoionization_strengths',\n",
       " 's2_pattern_maps',\n",
       " 's1_pattern_maps',\n",
       " 'z_bias_maps',\n",
       " 'cs2_bottom_top_ratios',\n",
       " 'utube_calibrations',\n",
       " 'diffused_calibrations',\n",
       " 'ibelt_calibrations',\n",
       " 'calibration_sources',\n",
       " 'hotspot_reports',\n",
       " 'anode_ramps',\n",
       " 'anode_washes',\n",
       " 'abnormal_daq_rates',\n",
       " 'processing_requests',\n",
       " 'pmt_gain_calculations',\n",
       " 'pmt_voltage_changes',\n",
       " 'pmt_installs',\n",
       " 'pmt_voltage_settings']"
      ]
     },
     "execution_count": 3,
     "metadata": {},
     "output_type": "execute_result"
    }
   ],
   "source": [
    "xd.list_schemas()"
   ]
  },
  {
   "cell_type": "markdown",
   "id": "d477a847-91b9-4386-b2dd-6670b0905627",
   "metadata": {},
   "source": [
    "### Accessing Data"
   ]
  },
  {
   "cell_type": "markdown",
   "id": "05cd9346-9f60-4aba-8d32-1bc195fcb13c",
   "metadata": {},
   "source": [
    "The development database is a database in which everyone can enter their own corrections, it will also have all the values for each correction. To avoid confusion make sure to label the version as something that cannot possibly be a real correction, here I will use test* "
   ]
  },
  {
   "cell_type": "code",
   "execution_count": 4,
   "id": "bb8ff114-9576-4590-baa0-8fbc0167693f",
   "metadata": {},
   "outputs": [],
   "source": [
    "xd_db_dev = xd.development_db()"
   ]
  },
  {
   "cell_type": "markdown",
   "id": "91fc460c-5e3b-48e4-a892-440d5c31dd74",
   "metadata": {},
   "source": [
    "The straxen database on the other had will have the real value of all correction and data can only be insterted into this database after other memebers of the colaboration have agreed that his value should be inserted."
   ]
  },
  {
   "cell_type": "code",
   "execution_count": 5,
   "id": "c5969db2-cd7b-4a76-b4d7-416ad5089470",
   "metadata": {},
   "outputs": [],
   "source": [
    "xd_db_stx = xd.straxen_db()"
   ]
  },
  {
   "cell_type": "markdown",
   "id": "5cc7c19e-b5d7-4dc2-a7b0-d0dc44140034",
   "metadata": {},
   "source": [
    "The data can be returned to the user in a varaiety of formats, for example in a pandas dataframe structure:"
   ]
  },
  {
   "cell_type": "markdown",
   "id": "023881cb-0e14-4011-b462-67dd8d2d17bd",
   "metadata": {},
   "source": [
    "#### Dataframe format"
   ]
  },
  {
   "cell_type": "code",
   "execution_count": 6,
   "id": "423211a7-07d3-442d-9508-07f0d2d6856d",
   "metadata": {},
   "outputs": [
    {
     "data": {
      "text/html": [
       "<div>\n",
       "<style scoped>\n",
       "    .dataframe tbody tr th:only-of-type {\n",
       "        vertical-align: middle;\n",
       "    }\n",
       "\n",
       "    .dataframe tbody tr th {\n",
       "        vertical-align: top;\n",
       "    }\n",
       "\n",
       "    .dataframe thead th {\n",
       "        text-align: right;\n",
       "    }\n",
       "</style>\n",
       "<table border=\"1\" class=\"dataframe\">\n",
       "  <thead>\n",
       "    <tr style=\"text-align: right;\">\n",
       "      <th></th>\n",
       "      <th></th>\n",
       "      <th>created_date</th>\n",
       "      <th>comments</th>\n",
       "      <th>value</th>\n",
       "    </tr>\n",
       "    <tr>\n",
       "      <th>version</th>\n",
       "      <th>time</th>\n",
       "      <th></th>\n",
       "      <th></th>\n",
       "      <th></th>\n",
       "    </tr>\n",
       "  </thead>\n",
       "  <tbody>\n",
       "    <tr>\n",
       "      <th rowspan=\"11\" valign=\"top\">ONLINE</th>\n",
       "      <th>2017-01-01 00:00:00+00:00</th>\n",
       "      <td>2023-02-09 15:17:26.958000+00:00</td>\n",
       "      <td></td>\n",
       "      <td>2.000000e+05</td>\n",
       "    </tr>\n",
       "    <tr>\n",
       "      <th>2020-10-14 00:00:00+00:00</th>\n",
       "      <td>2023-02-09 15:17:26.958000+00:00</td>\n",
       "      <td></td>\n",
       "      <td>7.125580e+04</td>\n",
       "    </tr>\n",
       "    <tr>\n",
       "      <th>2020-10-14 06:00:00+00:00</th>\n",
       "      <td>2023-02-09 15:17:26.958000+00:00</td>\n",
       "      <td></td>\n",
       "      <td>6.927400e+04</td>\n",
       "    </tr>\n",
       "    <tr>\n",
       "      <th>2020-10-14 12:00:00+00:00</th>\n",
       "      <td>2023-02-09 15:17:26.958000+00:00</td>\n",
       "      <td></td>\n",
       "      <td>6.903980e+04</td>\n",
       "    </tr>\n",
       "    <tr>\n",
       "      <th>2020-10-14 18:00:00+00:00</th>\n",
       "      <td>2023-02-09 15:17:26.958000+00:00</td>\n",
       "      <td></td>\n",
       "      <td>6.819510e+04</td>\n",
       "    </tr>\n",
       "    <tr>\n",
       "      <th>...</th>\n",
       "      <td>...</td>\n",
       "      <td>...</td>\n",
       "      <td>...</td>\n",
       "    </tr>\n",
       "    <tr>\n",
       "      <th>2022-09-30 03:06:03+00:00</th>\n",
       "      <td>2023-02-09 15:17:26.958000+00:00</td>\n",
       "      <td></td>\n",
       "      <td>8.180421e+06</td>\n",
       "    </tr>\n",
       "    <tr>\n",
       "      <th>2022-09-30 09:06:03+00:00</th>\n",
       "      <td>2023-02-09 15:17:26.958000+00:00</td>\n",
       "      <td></td>\n",
       "      <td>8.180421e+06</td>\n",
       "    </tr>\n",
       "    <tr>\n",
       "      <th>2022-09-30 15:06:03+00:00</th>\n",
       "      <td>2023-02-09 15:17:26.958000+00:00</td>\n",
       "      <td></td>\n",
       "      <td>8.180421e+06</td>\n",
       "    </tr>\n",
       "    <tr>\n",
       "      <th>2022-09-30 21:06:03+00:00</th>\n",
       "      <td>2023-02-09 15:17:26.958000+00:00</td>\n",
       "      <td></td>\n",
       "      <td>8.180421e+06</td>\n",
       "    </tr>\n",
       "    <tr>\n",
       "      <th>2022-10-01 03:06:03+00:00</th>\n",
       "      <td>2023-02-09 15:17:26.958000+00:00</td>\n",
       "      <td></td>\n",
       "      <td>8.180421e+06</td>\n",
       "    </tr>\n",
       "  </tbody>\n",
       "</table>\n",
       "<p>2660 rows × 3 columns</p>\n",
       "</div>"
      ],
      "text/plain": [
       "                                                      created_date comments  \\\n",
       "version time                                                                  \n",
       "ONLINE  2017-01-01 00:00:00+00:00 2023-02-09 15:17:26.958000+00:00            \n",
       "        2020-10-14 00:00:00+00:00 2023-02-09 15:17:26.958000+00:00            \n",
       "        2020-10-14 06:00:00+00:00 2023-02-09 15:17:26.958000+00:00            \n",
       "        2020-10-14 12:00:00+00:00 2023-02-09 15:17:26.958000+00:00            \n",
       "        2020-10-14 18:00:00+00:00 2023-02-09 15:17:26.958000+00:00            \n",
       "...                                                            ...      ...   \n",
       "        2022-09-30 03:06:03+00:00 2023-02-09 15:17:26.958000+00:00            \n",
       "        2022-09-30 09:06:03+00:00 2023-02-09 15:17:26.958000+00:00            \n",
       "        2022-09-30 15:06:03+00:00 2023-02-09 15:17:26.958000+00:00            \n",
       "        2022-09-30 21:06:03+00:00 2023-02-09 15:17:26.958000+00:00            \n",
       "        2022-10-01 03:06:03+00:00 2023-02-09 15:17:26.958000+00:00            \n",
       "\n",
       "                                          value  \n",
       "version time                                     \n",
       "ONLINE  2017-01-01 00:00:00+00:00  2.000000e+05  \n",
       "        2020-10-14 00:00:00+00:00  7.125580e+04  \n",
       "        2020-10-14 06:00:00+00:00  6.927400e+04  \n",
       "        2020-10-14 12:00:00+00:00  6.903980e+04  \n",
       "        2020-10-14 18:00:00+00:00  6.819510e+04  \n",
       "...                                         ...  \n",
       "        2022-09-30 03:06:03+00:00  8.180421e+06  \n",
       "        2022-09-30 09:06:03+00:00  8.180421e+06  \n",
       "        2022-09-30 15:06:03+00:00  8.180421e+06  \n",
       "        2022-09-30 21:06:03+00:00  8.180421e+06  \n",
       "        2022-10-01 03:06:03+00:00  8.180421e+06  \n",
       "\n",
       "[2660 rows x 3 columns]"
      ]
     },
     "execution_count": 6,
     "metadata": {},
     "output_type": "execute_result"
    }
   ],
   "source": [
    "xd_db_stx.electron_lifetimes.find_df(version='ONLINE')"
   ]
  },
  {
   "cell_type": "code",
   "execution_count": 7,
   "id": "2e1472db-cb3b-4afa-bd14-c64b5fb46c85",
   "metadata": {},
   "outputs": [],
   "source": [
    "elife = xd_db_stx.electron_lifetimes.find_df(version='ONLINE') # if you try to "
   ]
  },
  {
   "cell_type": "code",
   "execution_count": 8,
   "id": "fb5a6eb3-7c96-468d-a258-0f3ba141974e",
   "metadata": {},
   "outputs": [
    {
     "data": {
      "text/html": [
       "<div>\n",
       "<style scoped>\n",
       "    .dataframe tbody tr th:only-of-type {\n",
       "        vertical-align: middle;\n",
       "    }\n",
       "\n",
       "    .dataframe tbody tr th {\n",
       "        vertical-align: top;\n",
       "    }\n",
       "\n",
       "    .dataframe thead th {\n",
       "        text-align: right;\n",
       "    }\n",
       "</style>\n",
       "<table border=\"1\" class=\"dataframe\">\n",
       "  <thead>\n",
       "    <tr style=\"text-align: right;\">\n",
       "      <th></th>\n",
       "      <th></th>\n",
       "      <th>created_date</th>\n",
       "      <th>comments</th>\n",
       "      <th>value</th>\n",
       "    </tr>\n",
       "    <tr>\n",
       "      <th>version</th>\n",
       "      <th>time</th>\n",
       "      <th></th>\n",
       "      <th></th>\n",
       "      <th></th>\n",
       "    </tr>\n",
       "  </thead>\n",
       "  <tbody>\n",
       "    <tr>\n",
       "      <th rowspan=\"11\" valign=\"top\">ONLINE</th>\n",
       "      <th>2017-01-01 00:00:00+00:00</th>\n",
       "      <td>2023-02-09 15:17:26.958000+00:00</td>\n",
       "      <td></td>\n",
       "      <td>2.000000e+05</td>\n",
       "    </tr>\n",
       "    <tr>\n",
       "      <th>2020-10-14 00:00:00+00:00</th>\n",
       "      <td>2023-02-09 15:17:26.958000+00:00</td>\n",
       "      <td></td>\n",
       "      <td>7.125580e+04</td>\n",
       "    </tr>\n",
       "    <tr>\n",
       "      <th>2020-10-14 06:00:00+00:00</th>\n",
       "      <td>2023-02-09 15:17:26.958000+00:00</td>\n",
       "      <td></td>\n",
       "      <td>6.927400e+04</td>\n",
       "    </tr>\n",
       "    <tr>\n",
       "      <th>2020-10-14 12:00:00+00:00</th>\n",
       "      <td>2023-02-09 15:17:26.958000+00:00</td>\n",
       "      <td></td>\n",
       "      <td>6.903980e+04</td>\n",
       "    </tr>\n",
       "    <tr>\n",
       "      <th>2020-10-14 18:00:00+00:00</th>\n",
       "      <td>2023-02-09 15:17:26.958000+00:00</td>\n",
       "      <td></td>\n",
       "      <td>6.819510e+04</td>\n",
       "    </tr>\n",
       "    <tr>\n",
       "      <th>...</th>\n",
       "      <td>...</td>\n",
       "      <td>...</td>\n",
       "      <td>...</td>\n",
       "    </tr>\n",
       "    <tr>\n",
       "      <th>2022-09-30 03:06:03+00:00</th>\n",
       "      <td>2023-02-09 15:17:26.958000+00:00</td>\n",
       "      <td></td>\n",
       "      <td>8.180421e+06</td>\n",
       "    </tr>\n",
       "    <tr>\n",
       "      <th>2022-09-30 09:06:03+00:00</th>\n",
       "      <td>2023-02-09 15:17:26.958000+00:00</td>\n",
       "      <td></td>\n",
       "      <td>8.180421e+06</td>\n",
       "    </tr>\n",
       "    <tr>\n",
       "      <th>2022-09-30 15:06:03+00:00</th>\n",
       "      <td>2023-02-09 15:17:26.958000+00:00</td>\n",
       "      <td></td>\n",
       "      <td>8.180421e+06</td>\n",
       "    </tr>\n",
       "    <tr>\n",
       "      <th>2022-09-30 21:06:03+00:00</th>\n",
       "      <td>2023-02-09 15:17:26.958000+00:00</td>\n",
       "      <td></td>\n",
       "      <td>8.180421e+06</td>\n",
       "    </tr>\n",
       "    <tr>\n",
       "      <th>2022-10-01 03:06:03+00:00</th>\n",
       "      <td>2023-02-09 15:17:26.958000+00:00</td>\n",
       "      <td></td>\n",
       "      <td>8.180421e+06</td>\n",
       "    </tr>\n",
       "  </tbody>\n",
       "</table>\n",
       "<p>2660 rows × 3 columns</p>\n",
       "</div>"
      ],
      "text/plain": [
       "                                                      created_date comments  \\\n",
       "version time                                                                  \n",
       "ONLINE  2017-01-01 00:00:00+00:00 2023-02-09 15:17:26.958000+00:00            \n",
       "        2020-10-14 00:00:00+00:00 2023-02-09 15:17:26.958000+00:00            \n",
       "        2020-10-14 06:00:00+00:00 2023-02-09 15:17:26.958000+00:00            \n",
       "        2020-10-14 12:00:00+00:00 2023-02-09 15:17:26.958000+00:00            \n",
       "        2020-10-14 18:00:00+00:00 2023-02-09 15:17:26.958000+00:00            \n",
       "...                                                            ...      ...   \n",
       "        2022-09-30 03:06:03+00:00 2023-02-09 15:17:26.958000+00:00            \n",
       "        2022-09-30 09:06:03+00:00 2023-02-09 15:17:26.958000+00:00            \n",
       "        2022-09-30 15:06:03+00:00 2023-02-09 15:17:26.958000+00:00            \n",
       "        2022-09-30 21:06:03+00:00 2023-02-09 15:17:26.958000+00:00            \n",
       "        2022-10-01 03:06:03+00:00 2023-02-09 15:17:26.958000+00:00            \n",
       "\n",
       "                                          value  \n",
       "version time                                     \n",
       "ONLINE  2017-01-01 00:00:00+00:00  2.000000e+05  \n",
       "        2020-10-14 00:00:00+00:00  7.125580e+04  \n",
       "        2020-10-14 06:00:00+00:00  6.927400e+04  \n",
       "        2020-10-14 12:00:00+00:00  6.903980e+04  \n",
       "        2020-10-14 18:00:00+00:00  6.819510e+04  \n",
       "...                                         ...  \n",
       "        2022-09-30 03:06:03+00:00  8.180421e+06  \n",
       "        2022-09-30 09:06:03+00:00  8.180421e+06  \n",
       "        2022-09-30 15:06:03+00:00  8.180421e+06  \n",
       "        2022-09-30 21:06:03+00:00  8.180421e+06  \n",
       "        2022-10-01 03:06:03+00:00  8.180421e+06  \n",
       "\n",
       "[2660 rows x 3 columns]"
      ]
     },
     "execution_count": 8,
     "metadata": {},
     "output_type": "execute_result"
    }
   ],
   "source": [
    "elife"
   ]
  },
  {
   "cell_type": "markdown",
   "id": "6433b7e1-c97a-42aa-9d5c-4f442737fd0b",
   "metadata": {},
   "source": [
    "#### list format"
   ]
  },
  {
   "cell_type": "code",
   "execution_count": null,
   "id": "89915ce8-1457-48b8-a4b4-b634559f75c9",
   "metadata": {},
   "outputs": [],
   "source": [
    "elife = xd_db_stx.electron_lifetimes.find(version='ONLINE') # if you try to "
   ]
  },
  {
   "cell_type": "code",
   "execution_count": null,
   "id": "6d78777a-d998-4b1b-9f05-13a460a696a0",
   "metadata": {},
   "outputs": [],
   "source": [
    "list(elife)[:3]"
   ]
  },
  {
   "cell_type": "markdown",
   "id": "f9396164-99c2-4693-8f52-9dce78afa6dc",
   "metadata": {},
   "source": [
    "#### Dict format"
   ]
  },
  {
   "cell_type": "code",
   "execution_count": null,
   "id": "afe80312-0ad5-47f6-855d-18a513868ca0",
   "metadata": {},
   "outputs": [],
   "source": [
    "elife = xd_db_stx.electron_lifetimes.find_dicts(version='ONLINE') # if you try to "
   ]
  },
  {
   "cell_type": "code",
   "execution_count": null,
   "id": "5416d4f9-c18c-4b30-bd2b-8a58d231f0d0",
   "metadata": {},
   "outputs": [],
   "source": [
    "elife[:3]"
   ]
  },
  {
   "cell_type": "markdown",
   "id": "90f8868f-8c53-4513-a844-e06b819e12d8",
   "metadata": {},
   "source": [
    "#### \"Docs\" format"
   ]
  },
  {
   "cell_type": "code",
   "execution_count": null,
   "id": "74500007-8fcc-4d56-8137-5f8c2c3239f1",
   "metadata": {},
   "outputs": [],
   "source": [
    "elife = xd_db_stx.electron_lifetimes.find_docs(version='ONLINE') # if you try to "
   ]
  },
  {
   "cell_type": "code",
   "execution_count": null,
   "id": "fec6b66b-3c40-4b14-8840-c20294b2670f",
   "metadata": {},
   "outputs": [],
   "source": [
    "elife[:3]"
   ]
  },
  {
   "cell_type": "markdown",
   "id": "16722fd3-dbe3-4c9c-babf-c453bc2e6282",
   "metadata": {},
   "source": [
    "#### You can just get one data point if that is all you want!"
   ]
  },
  {
   "cell_type": "code",
   "execution_count": null,
   "id": "00d502b5-756f-42cc-a474-b6cc81bfc8a6",
   "metadata": {},
   "outputs": [],
   "source": [
    "elife = xd_db_stx.electron_lifetimes.find_one(version='ONLINE') # if you try to "
   ]
  },
  {
   "cell_type": "code",
   "execution_count": null,
   "id": "ccf384cc-b91d-4759-a66e-7c253167d5f3",
   "metadata": {},
   "outputs": [],
   "source": [
    "elife"
   ]
  },
  {
   "cell_type": "markdown",
   "id": "91d6f918-45ac-457c-be0f-3ee8ce5db7b4",
   "metadata": {},
   "source": [
    "##### You can pass many different arguments into the search parameters to make your scope as limited or as wide as you might want it, you can also use _sort options if you want the data to be returned in a particualr order."
   ]
  },
  {
   "cell_type": "code",
   "execution_count": null,
   "id": "e28ade1d-1149-46f8-9335-87f301709b1a",
   "metadata": {},
   "outputs": [],
   "source": [
    "rel_ext_eff = xd_db_stx.rel_extraction_effs.find_docs(version='v3')"
   ]
  },
  {
   "cell_type": "code",
   "execution_count": null,
   "id": "49246833-0050-46d8-abcb-1f03e567ad8e",
   "metadata": {},
   "outputs": [],
   "source": [
    "rel_ext_eff[:3]"
   ]
  },
  {
   "cell_type": "code",
   "execution_count": null,
   "id": "6b6eb0c1-7bc2-4bb0-8b90-0354c857518b",
   "metadata": {},
   "outputs": [],
   "source": [
    "# lets sort by time and only get the ab partition\n",
    "rel_ext_eff = xd_db_stx.rel_extraction_effs.find_docs(version='v3', partition='ab', __sort='time')"
   ]
  },
  {
   "cell_type": "code",
   "execution_count": null,
   "id": "1fbb9f28-3c0f-47c7-898e-686d52a8ad84",
   "metadata": {},
   "outputs": [],
   "source": [
    "rel_ext_eff[-3:]"
   ]
  },
  {
   "cell_type": "code",
   "execution_count": null,
   "id": "b3b22a9d-47ea-458e-a6c2-680c237acfd3",
   "metadata": {},
   "outputs": [],
   "source": [
    "rel_ext_eff = xd_db_stx.rel_extraction_effs.find_docs(version='v3', \n",
    "                                                  run_id = '027434', \n",
    "                                                  partition = 'ab')"
   ]
  },
  {
   "cell_type": "code",
   "execution_count": null,
   "id": "a77279d9-79e3-4876-86dc-bf6b2c5e7c76",
   "metadata": {},
   "outputs": [],
   "source": [
    "rel_ext_eff"
   ]
  },
  {
   "cell_type": "markdown",
   "id": "904ef1cf-12e7-4404-9c3f-46838659c359",
   "metadata": {},
   "source": [
    "##### Data stored in xedocs have multiple indecies, and there is a requierment that all indecies are unique, therefore you can only save new data when it has indecies where the combination of all indecies is unique"
   ]
  },
  {
   "cell_type": "markdown",
   "id": "024f4f5d-a598-4843-8a87-e6dda11aa855",
   "metadata": {},
   "source": [
    "We can also access the Bodega data through schemas using 'DetectorNumber'"
   ]
  },
  {
   "cell_type": "code",
   "execution_count": null,
   "id": "4c3f5535-5976-40cd-b5c0-74335cb0e9b5",
   "metadata": {},
   "outputs": [],
   "source": [
    "xd_db_stx.detector_numbers.find_one(field='g1')"
   ]
  },
  {
   "cell_type": "code",
   "execution_count": null,
   "id": "ac834432-a56c-4252-a2a9-17763dec1e05",
   "metadata": {},
   "outputs": [],
   "source": [
    "se_gain = xd_db_stx.detector_numbers.find(field = 'se_gain')"
   ]
  },
  {
   "cell_type": "code",
   "execution_count": null,
   "id": "f9e5720e-20d7-4629-9171-1d2a83b0e172",
   "metadata": {},
   "outputs": [],
   "source": [
    "list(se_gain)"
   ]
  },
  {
   "cell_type": "markdown",
   "id": "6c4e9525-1706-4b30-a48b-8528d20a1472",
   "metadata": {},
   "source": [
    "### Saving data using xedocs"
   ]
  },
  {
   "cell_type": "markdown",
   "id": "5b852f3c-320d-48c9-9e10-6c07e0afd93d",
   "metadata": {},
   "source": [
    "To save new data using xedocs we need to know what indecies that particular schema has. By defualt all schemas will require a version and a run_id or time for the indecies and a value to actually upload. However other shcemas can have additional indecies you need to spesify such as algorithm for machine learning related currections such as 'mlp', 'cnn' and 'gcn', format of the data, among others. As such we need to first know what are the indecies required and then we can upload the data!"
   ]
  },
  {
   "cell_type": "markdown",
   "id": "a8613580-b9ed-4a53-bfea-776ce85f98a4",
   "metadata": {},
   "source": [
    "For this set of correction we will save the data to the development db."
   ]
  },
  {
   "cell_type": "code",
   "execution_count": 9,
   "id": "1a257e35-7a06-45ab-8479-8e7380433de5",
   "metadata": {},
   "outputs": [],
   "source": [
    "run_id = '047493'"
   ]
  },
  {
   "cell_type": "code",
   "execution_count": 10,
   "id": "1fe7f3a4-79b8-4d69-8b2d-919cc04d56eb",
   "metadata": {},
   "outputs": [],
   "source": [
    "# Get the ONLINE of elife for out run_id\n",
    "elife_online = xd_db_stx.electron_lifetimes.find_docs(version = 'ONLINE', run_id = run_id)"
   ]
  },
  {
   "cell_type": "code",
   "execution_count": 11,
   "id": "f496514d-d15d-4614-b7ff-a835e43c8e1c",
   "metadata": {},
   "outputs": [
    {
     "data": {
      "text/plain": [
       "[{'version': 'v6',\n",
       "  'created_date': datetime.datetime(2023, 5, 19, 14, 59, 55, 878000, tzinfo=<UTC>),\n",
       "  'comments': '',\n",
       "  'time': datetime.datetime(2022, 9, 13, 11, 14, 46, 741000, tzinfo=<UTC>),\n",
       "  'value': 26141032.007023267},\n",
       " {'version': 'v7',\n",
       "  'created_date': datetime.datetime(2023, 2, 9, 15, 17, 26, 958000, tzinfo=<UTC>),\n",
       "  'comments': '',\n",
       "  'time': datetime.datetime(2022, 9, 13, 11, 14, 46, 741000, tzinfo=<UTC>),\n",
       "  'value': 23933929.779056724},\n",
       " {'version': 'v8',\n",
       "  'created_date': datetime.datetime(2023, 5, 19, 14, 59, 56, 820000, tzinfo=<UTC>),\n",
       "  'comments': '',\n",
       "  'time': datetime.datetime(2022, 9, 13, 11, 14, 46, 741000, tzinfo=<UTC>),\n",
       "  'value': 23933929.779056724},\n",
       " {'version': 'v9',\n",
       "  'created_date': datetime.datetime(2023, 12, 21, 17, 6, 54, 933000, tzinfo=<UTC>),\n",
       "  'comments': 'v9 EL version',\n",
       "  'time': datetime.datetime(2022, 9, 13, 11, 14, 46, 741000, tzinfo=<UTC>),\n",
       "  'value': 24203724.610794935},\n",
       " {'version': 'test*',\n",
       "  'created_date': datetime.datetime(2023, 1, 24, 17, 20, 42, 436000, tzinfo=<UTC>),\n",
       "  'comments': 'giving a 10% decrease to Electron lifetime',\n",
       "  'time': datetime.datetime(2022, 9, 13, 11, 14, 46, 741000, tzinfo=<UTC>),\n",
       "  'value': 7362379.160154001},\n",
       " {'version': 'test*2',\n",
       "  'created_date': datetime.datetime(2023, 1, 24, 17, 20, 42, 436000, tzinfo=<UTC>),\n",
       "  'comments': 'giving a 10% decrease to Electron lifetime',\n",
       "  'time': datetime.datetime(2022, 9, 13, 11, 14, 46, 741000, tzinfo=<UTC>),\n",
       "  'value': 6544337.031248}]"
      ]
     },
     "execution_count": 11,
     "metadata": {},
     "output_type": "execute_result"
    }
   ],
   "source": [
    "list(xd_db_dev.electron_lifetimes.find(run_id = run_id))"
   ]
  },
  {
   "cell_type": "code",
   "execution_count": 12,
   "id": "d4e470b5-d667-432a-b9be-d0b7a7526aac",
   "metadata": {},
   "outputs": [],
   "source": [
    "elife_new = xd.schemas.ElectronLifetime(value=elife_online[0].value*0.90, version='test3*', \n",
    "                                        run_id=run_id, datasource = 'development_db',\n",
    "                                        comments='giving a 10% decrease to Electron lifetime')"
   ]
  },
  {
   "cell_type": "code",
   "execution_count": 17,
   "id": "fc64ae40-283e-48cf-9d49-761252234161",
   "metadata": {},
   "outputs": [
    {
     "data": {
      "text/plain": [
       "\n",
       "        Xenon ElectronLifetime Document\n",
       "        -------------------------------\n",
       " \n",
       "        Category:      corrections\n",
       "        Alias:         electron_lifetimes\n",
       "        Index:         version=test*3, time=2022-09-13 11:14:46.741000+00:00\n",
       "        Values:        created_date=2024-04-05 14:38:27.452000+00:00, comments=giving a 10% decrease to Electron lifetime, value=6544337.031248\n",
       "        "
      ]
     },
     "execution_count": 17,
     "metadata": {},
     "output_type": "execute_result"
    }
   ],
   "source": [
    "elife_new"
   ]
  },
  {
   "cell_type": "code",
   "execution_count": 13,
   "id": "98f3f9cf-f587-410e-b9ea-6a35d9c56dc5",
   "metadata": {},
   "outputs": [
    {
     "ename": "ServerSelectionTimeoutError",
     "evalue": "No primary available for writes, Timeout: 30s, Topology Description: <TopologyDescription id: 66100caed949d86b2a548aa7, topology_type: ReplicaSetNoPrimary, servers: [<ServerDescription ('fried.rice.edu', 27017) server_type: Unknown, rtt: None, error=NetworkTimeout('fried.rice.edu:27017: timed out')>, <ServerDescription ('xenon-rundb.grid.uchicago.edu', 27017) server_type: RSSecondary, rtt: 0.013266996592283248>, <ServerDescription ('xenon1t-daq.lngs.infn.it', 27015) server_type: Unknown, rtt: None, error=NetworkTimeout('xenon1t-daq.lngs.infn.it:27015: timed out')>, <ServerDescription ('xenon1t-daq.lngs.infn.it', 27017) server_type: Unknown, rtt: None, error=NetworkTimeout('xenon1t-daq.lngs.infn.it:27017: timed out')>, <ServerDescription ('xenon1t-daq.lngs.infn.it', 27018) server_type: Unknown, rtt: None, error=NetworkTimeout('xenon1t-daq.lngs.infn.it:27018: timed out')>]>",
     "output_type": "error",
     "traceback": [
      "\u001b[0;31m---------------------------------------------------------------------------\u001b[0m",
      "\u001b[0;31mServerSelectionTimeoutError\u001b[0m               Traceback (most recent call last)",
      "Cell \u001b[0;32mIn[13], line 1\u001b[0m\n\u001b[0;32m----> 1\u001b[0m \u001b[43mxd_db_dev\u001b[49m\u001b[38;5;241;43m.\u001b[39;49m\u001b[43melectron_lifetimes\u001b[49m\u001b[38;5;241;43m.\u001b[39;49m\u001b[43minsert\u001b[49m\u001b[43m(\u001b[49m\u001b[43melife_new\u001b[49m\u001b[43m)\u001b[49m\n",
      "File \u001b[0;32m/opt/XENONnT/anaconda/envs/XENONnT_2024.02.1/lib/python3.9/site-packages/rframe/data_accessor.py:165\u001b[0m, in \u001b[0;36mDataAccessor.insert\u001b[0;34m(self, docs, raise_on_error, dry)\u001b[0m\n\u001b[1;32m    163\u001b[0m \u001b[38;5;28;01mdef\u001b[39;00m \u001b[38;5;21minsert\u001b[39m(\u001b[38;5;28mself\u001b[39m, docs, raise_on_error\u001b[38;5;241m=\u001b[39m\u001b[38;5;28;01mTrue\u001b[39;00m, dry\u001b[38;5;241m=\u001b[39m\u001b[38;5;28;01mFalse\u001b[39;00m):\n\u001b[1;32m    164\u001b[0m     \u001b[38;5;28;01mif\u001b[39;00m \u001b[38;5;129;01mnot\u001b[39;00m \u001b[38;5;28mself\u001b[39m\u001b[38;5;241m.\u001b[39minitialized:\n\u001b[0;32m--> 165\u001b[0m         \u001b[38;5;28;43mself\u001b[39;49m\u001b[38;5;241;43m.\u001b[39;49m\u001b[43minitdb\u001b[49m\u001b[43m(\u001b[49m\u001b[43m)\u001b[49m\n\u001b[1;32m    167\u001b[0m     \u001b[38;5;28;01mif\u001b[39;00m \u001b[38;5;129;01mnot\u001b[39;00m \u001b[38;5;28misinstance\u001b[39m(docs, (\u001b[38;5;28mlist\u001b[39m, \u001b[38;5;28mtuple\u001b[39m)):\n\u001b[1;32m    168\u001b[0m         docs \u001b[38;5;241m=\u001b[39m [docs]\n",
      "File \u001b[0;32m/opt/XENONnT/anaconda/envs/XENONnT_2024.02.1/lib/python3.9/site-packages/rframe/data_accessor.py:216\u001b[0m, in \u001b[0;36mDataAccessor.initdb\u001b[0;34m(self)\u001b[0m\n\u001b[1;32m    215\u001b[0m \u001b[38;5;28;01mdef\u001b[39;00m \u001b[38;5;21minitdb\u001b[39m(\u001b[38;5;28mself\u001b[39m):\n\u001b[0;32m--> 216\u001b[0m     \u001b[38;5;28;43mself\u001b[39;49m\u001b[38;5;241;43m.\u001b[39;49m\u001b[43mschema\u001b[49m\u001b[38;5;241;43m.\u001b[39;49m\u001b[43minitdb\u001b[49m\u001b[43m(\u001b[49m\u001b[38;5;28;43mself\u001b[39;49m\u001b[38;5;241;43m.\u001b[39;49m\u001b[43mstorage\u001b[49m\u001b[43m)\u001b[49m\n\u001b[1;32m    217\u001b[0m     \u001b[38;5;28mself\u001b[39m\u001b[38;5;241m.\u001b[39minitialized \u001b[38;5;241m=\u001b[39m \u001b[38;5;28;01mTrue\u001b[39;00m\n",
      "File \u001b[0;32m/opt/XENONnT/anaconda/envs/XENONnT_2024.02.1/lib/python3.9/site-packages/rframe/schema.py:349\u001b[0m, in \u001b[0;36mBaseSchema.initdb\u001b[0;34m(cls, datasource, **kwargs)\u001b[0m\n\u001b[1;32m    346\u001b[0m \u001b[38;5;129m@classmethod\u001b[39m\n\u001b[1;32m    347\u001b[0m \u001b[38;5;28;01mdef\u001b[39;00m \u001b[38;5;21minitdb\u001b[39m(\u001b[38;5;28mcls\u001b[39m, datasource, \u001b[38;5;241m*\u001b[39m\u001b[38;5;241m*\u001b[39mkwargs):\n\u001b[1;32m    348\u001b[0m     interface \u001b[38;5;241m=\u001b[39m get_interface(datasource, \u001b[38;5;241m*\u001b[39m\u001b[38;5;241m*\u001b[39mkwargs)\n\u001b[0;32m--> 349\u001b[0m     \u001b[43minterface\u001b[49m\u001b[38;5;241;43m.\u001b[39;49m\u001b[43minitdb\u001b[49m\u001b[43m(\u001b[49m\u001b[38;5;28;43mcls\u001b[39;49m\u001b[43m)\u001b[49m\n",
      "File \u001b[0;32m/opt/XENONnT/anaconda/envs/XENONnT_2024.02.1/lib/python3.9/site-packages/rframe/interfaces/mongo.py:647\u001b[0m, in \u001b[0;36mMongoInterface.initdb\u001b[0;34m(self, schema)\u001b[0m\n\u001b[1;32m    645\u001b[0m \u001b[38;5;28;01mdef\u001b[39;00m \u001b[38;5;21minitdb\u001b[39m(\u001b[38;5;28mself\u001b[39m, schema):\n\u001b[1;32m    646\u001b[0m     index_names \u001b[38;5;241m=\u001b[39m \u001b[38;5;28mlist\u001b[39m(schema\u001b[38;5;241m.\u001b[39mget_index_fields())\n\u001b[0;32m--> 647\u001b[0m     \u001b[38;5;28;43mself\u001b[39;49m\u001b[38;5;241;43m.\u001b[39;49m\u001b[43mensure_index\u001b[49m\u001b[43m(\u001b[49m\u001b[43mindex_names\u001b[49m\u001b[43m)\u001b[49m\n",
      "File \u001b[0;32m/opt/XENONnT/anaconda/envs/XENONnT_2024.02.1/lib/python3.9/site-packages/rframe/interfaces/mongo.py:639\u001b[0m, in \u001b[0;36mMongoInterface.ensure_index\u001b[0;34m(self, names, order)\u001b[0m\n\u001b[1;32m    638\u001b[0m \u001b[38;5;28;01mdef\u001b[39;00m \u001b[38;5;21mensure_index\u001b[39m(\u001b[38;5;28mself\u001b[39m, names, order\u001b[38;5;241m=\u001b[39mpymongo\u001b[38;5;241m.\u001b[39mASCENDING):\n\u001b[0;32m--> 639\u001b[0m     \u001b[38;5;28;43mself\u001b[39;49m\u001b[38;5;241;43m.\u001b[39;49m\u001b[43msource\u001b[49m\u001b[38;5;241;43m.\u001b[39;49m\u001b[43mcreate_index\u001b[49m\u001b[43m(\u001b[49m\u001b[43m[\u001b[49m\u001b[43m(\u001b[49m\u001b[43mname\u001b[49m\u001b[43m,\u001b[49m\u001b[43m \u001b[49m\u001b[43morder\u001b[49m\u001b[43m)\u001b[49m\u001b[43m \u001b[49m\u001b[38;5;28;43;01mfor\u001b[39;49;00m\u001b[43m \u001b[49m\u001b[43mname\u001b[49m\u001b[43m \u001b[49m\u001b[38;5;129;43;01min\u001b[39;49;00m\u001b[43m \u001b[49m\u001b[43mnames\u001b[49m\u001b[43m]\u001b[49m\u001b[43m)\u001b[49m\n",
      "File \u001b[0;32m~/.local/lib/python3.9/site-packages/pymongo/collection.py:2271\u001b[0m, in \u001b[0;36mCollection.create_index\u001b[0;34m(self, keys, session, **kwargs)\u001b[0m\n\u001b[1;32m   2269\u001b[0m     cmd_options[\u001b[38;5;124m\"\u001b[39m\u001b[38;5;124mmaxTimeMS\u001b[39m\u001b[38;5;124m\"\u001b[39m] \u001b[38;5;241m=\u001b[39m kwargs\u001b[38;5;241m.\u001b[39mpop(\u001b[38;5;124m\"\u001b[39m\u001b[38;5;124mmaxTimeMS\u001b[39m\u001b[38;5;124m\"\u001b[39m)\n\u001b[1;32m   2270\u001b[0m index \u001b[38;5;241m=\u001b[39m IndexModel(keys, \u001b[38;5;241m*\u001b[39m\u001b[38;5;241m*\u001b[39mkwargs)\n\u001b[0;32m-> 2271\u001b[0m \u001b[38;5;28;01mreturn\u001b[39;00m \u001b[38;5;28;43mself\u001b[39;49m\u001b[38;5;241;43m.\u001b[39;49m\u001b[43m__create_indexes\u001b[49m\u001b[43m(\u001b[49m\u001b[43m[\u001b[49m\u001b[43mindex\u001b[49m\u001b[43m]\u001b[49m\u001b[43m,\u001b[49m\u001b[43m \u001b[49m\u001b[43msession\u001b[49m\u001b[43m,\u001b[49m\u001b[43m \u001b[49m\u001b[38;5;241;43m*\u001b[39;49m\u001b[38;5;241;43m*\u001b[39;49m\u001b[43mcmd_options\u001b[49m\u001b[43m)\u001b[49m[\u001b[38;5;241m0\u001b[39m]\n",
      "File \u001b[0;32m~/.local/lib/python3.9/site-packages/pymongo/collection.py:2129\u001b[0m, in \u001b[0;36mCollection.__create_indexes\u001b[0;34m(self, indexes, session, **kwargs)\u001b[0m\n\u001b[1;32m   2118\u001b[0m \u001b[38;5;250m\u001b[39m\u001b[38;5;124;03m\"\"\"Internal createIndexes helper.\u001b[39;00m\n\u001b[1;32m   2119\u001b[0m \n\u001b[1;32m   2120\u001b[0m \u001b[38;5;124;03m:Parameters:\u001b[39;00m\n\u001b[0;32m   (...)\u001b[0m\n\u001b[1;32m   2126\u001b[0m \u001b[38;5;124;03m    command (like maxTimeMS) can be passed as keyword arguments.\u001b[39;00m\n\u001b[1;32m   2127\u001b[0m \u001b[38;5;124;03m\"\"\"\u001b[39;00m\n\u001b[1;32m   2128\u001b[0m names \u001b[38;5;241m=\u001b[39m []\n\u001b[0;32m-> 2129\u001b[0m \u001b[38;5;28;01mwith\u001b[39;00m \u001b[38;5;28;43mself\u001b[39;49m\u001b[38;5;241;43m.\u001b[39;49m\u001b[43m_socket_for_writes\u001b[49m\u001b[43m(\u001b[49m\u001b[43msession\u001b[49m\u001b[43m)\u001b[49m \u001b[38;5;28;01mas\u001b[39;00m sock_info:\n\u001b[1;32m   2130\u001b[0m     supports_collations \u001b[38;5;241m=\u001b[39m sock_info\u001b[38;5;241m.\u001b[39mmax_wire_version \u001b[38;5;241m>\u001b[39m\u001b[38;5;241m=\u001b[39m \u001b[38;5;241m5\u001b[39m\n\u001b[1;32m   2131\u001b[0m     supports_quorum \u001b[38;5;241m=\u001b[39m sock_info\u001b[38;5;241m.\u001b[39mmax_wire_version \u001b[38;5;241m>\u001b[39m\u001b[38;5;241m=\u001b[39m \u001b[38;5;241m9\u001b[39m\n",
      "File \u001b[0;32m~/.local/lib/python3.9/site-packages/pymongo/collection.py:203\u001b[0m, in \u001b[0;36mCollection._socket_for_writes\u001b[0;34m(self, session)\u001b[0m\n\u001b[1;32m    202\u001b[0m \u001b[38;5;28;01mdef\u001b[39;00m \u001b[38;5;21m_socket_for_writes\u001b[39m(\u001b[38;5;28mself\u001b[39m, session):\n\u001b[0;32m--> 203\u001b[0m     \u001b[38;5;28;01mreturn\u001b[39;00m \u001b[38;5;28;43mself\u001b[39;49m\u001b[38;5;241;43m.\u001b[39;49m\u001b[43m__database\u001b[49m\u001b[38;5;241;43m.\u001b[39;49m\u001b[43mclient\u001b[49m\u001b[38;5;241;43m.\u001b[39;49m\u001b[43m_socket_for_writes\u001b[49m\u001b[43m(\u001b[49m\u001b[43msession\u001b[49m\u001b[43m)\u001b[49m\n",
      "File \u001b[0;32m~/.local/lib/python3.9/site-packages/pymongo/mongo_client.py:1446\u001b[0m, in \u001b[0;36mMongoClient._socket_for_writes\u001b[0;34m(self, session)\u001b[0m\n\u001b[1;32m   1445\u001b[0m \u001b[38;5;28;01mdef\u001b[39;00m \u001b[38;5;21m_socket_for_writes\u001b[39m(\u001b[38;5;28mself\u001b[39m, session):\n\u001b[0;32m-> 1446\u001b[0m     server \u001b[38;5;241m=\u001b[39m \u001b[38;5;28;43mself\u001b[39;49m\u001b[38;5;241;43m.\u001b[39;49m\u001b[43m_select_server\u001b[49m\u001b[43m(\u001b[49m\u001b[43mwritable_server_selector\u001b[49m\u001b[43m,\u001b[49m\u001b[43m \u001b[49m\u001b[43msession\u001b[49m\u001b[43m)\u001b[49m\n\u001b[1;32m   1447\u001b[0m     \u001b[38;5;28;01mreturn\u001b[39;00m \u001b[38;5;28mself\u001b[39m\u001b[38;5;241m.\u001b[39m_get_socket(server, session)\n",
      "File \u001b[0;32m~/.local/lib/python3.9/site-packages/pymongo/mongo_client.py:1436\u001b[0m, in \u001b[0;36mMongoClient._select_server\u001b[0;34m(self, server_selector, session, address)\u001b[0m\n\u001b[1;32m   1434\u001b[0m             \u001b[38;5;28;01mraise\u001b[39;00m AutoReconnect(\u001b[38;5;124m\"\u001b[39m\u001b[38;5;124mserver \u001b[39m\u001b[38;5;132;01m%s\u001b[39;00m\u001b[38;5;124m:\u001b[39m\u001b[38;5;132;01m%d\u001b[39;00m\u001b[38;5;124m no longer available\u001b[39m\u001b[38;5;124m\"\u001b[39m \u001b[38;5;241m%\u001b[39m address)\n\u001b[1;32m   1435\u001b[0m     \u001b[38;5;28;01melse\u001b[39;00m:\n\u001b[0;32m-> 1436\u001b[0m         server \u001b[38;5;241m=\u001b[39m \u001b[43mtopology\u001b[49m\u001b[38;5;241;43m.\u001b[39;49m\u001b[43mselect_server\u001b[49m\u001b[43m(\u001b[49m\u001b[43mserver_selector\u001b[49m\u001b[43m)\u001b[49m\n\u001b[1;32m   1437\u001b[0m     \u001b[38;5;28;01mreturn\u001b[39;00m server\n\u001b[1;32m   1438\u001b[0m \u001b[38;5;28;01mexcept\u001b[39;00m PyMongoError \u001b[38;5;28;01mas\u001b[39;00m exc:\n\u001b[1;32m   1439\u001b[0m     \u001b[38;5;66;03m# Server selection errors in a transaction are transient.\u001b[39;00m\n",
      "File \u001b[0;32m~/.local/lib/python3.9/site-packages/pymongo/topology.py:250\u001b[0m, in \u001b[0;36mTopology.select_server\u001b[0;34m(self, selector, server_selection_timeout, address)\u001b[0m\n\u001b[1;32m    248\u001b[0m \u001b[38;5;28;01mdef\u001b[39;00m \u001b[38;5;21mselect_server\u001b[39m(\u001b[38;5;28mself\u001b[39m, selector, server_selection_timeout\u001b[38;5;241m=\u001b[39m\u001b[38;5;28;01mNone\u001b[39;00m, address\u001b[38;5;241m=\u001b[39m\u001b[38;5;28;01mNone\u001b[39;00m):\n\u001b[1;32m    249\u001b[0m \u001b[38;5;250m    \u001b[39m\u001b[38;5;124;03m\"\"\"Like select_servers, but choose a random server if several match.\"\"\"\u001b[39;00m\n\u001b[0;32m--> 250\u001b[0m     \u001b[38;5;28;01mreturn\u001b[39;00m random\u001b[38;5;241m.\u001b[39mchoice(\u001b[38;5;28;43mself\u001b[39;49m\u001b[38;5;241;43m.\u001b[39;49m\u001b[43mselect_servers\u001b[49m\u001b[43m(\u001b[49m\u001b[43mselector\u001b[49m\u001b[43m,\u001b[49m\u001b[43m \u001b[49m\u001b[43mserver_selection_timeout\u001b[49m\u001b[43m,\u001b[49m\u001b[43m \u001b[49m\u001b[43maddress\u001b[49m\u001b[43m)\u001b[49m)\n",
      "File \u001b[0;32m~/.local/lib/python3.9/site-packages/pymongo/topology.py:211\u001b[0m, in \u001b[0;36mTopology.select_servers\u001b[0;34m(self, selector, server_selection_timeout, address)\u001b[0m\n\u001b[1;32m    208\u001b[0m     server_timeout \u001b[38;5;241m=\u001b[39m server_selection_timeout\n\u001b[1;32m    210\u001b[0m \u001b[38;5;28;01mwith\u001b[39;00m \u001b[38;5;28mself\u001b[39m\u001b[38;5;241m.\u001b[39m_lock:\n\u001b[0;32m--> 211\u001b[0m     server_descriptions \u001b[38;5;241m=\u001b[39m \u001b[38;5;28;43mself\u001b[39;49m\u001b[38;5;241;43m.\u001b[39;49m\u001b[43m_select_servers_loop\u001b[49m\u001b[43m(\u001b[49m\u001b[43mselector\u001b[49m\u001b[43m,\u001b[49m\u001b[43m \u001b[49m\u001b[43mserver_timeout\u001b[49m\u001b[43m,\u001b[49m\u001b[43m \u001b[49m\u001b[43maddress\u001b[49m\u001b[43m)\u001b[49m\n\u001b[1;32m    213\u001b[0m     \u001b[38;5;28;01mreturn\u001b[39;00m [\u001b[38;5;28mself\u001b[39m\u001b[38;5;241m.\u001b[39mget_server_by_address(sd\u001b[38;5;241m.\u001b[39maddress) \u001b[38;5;28;01mfor\u001b[39;00m sd \u001b[38;5;129;01min\u001b[39;00m server_descriptions]\n",
      "File \u001b[0;32m~/.local/lib/python3.9/site-packages/pymongo/topology.py:226\u001b[0m, in \u001b[0;36mTopology._select_servers_loop\u001b[0;34m(self, selector, timeout, address)\u001b[0m\n\u001b[1;32m    223\u001b[0m \u001b[38;5;28;01mwhile\u001b[39;00m \u001b[38;5;129;01mnot\u001b[39;00m server_descriptions:\n\u001b[1;32m    224\u001b[0m     \u001b[38;5;66;03m# No suitable servers.\u001b[39;00m\n\u001b[1;32m    225\u001b[0m     \u001b[38;5;28;01mif\u001b[39;00m timeout \u001b[38;5;241m==\u001b[39m \u001b[38;5;241m0\u001b[39m \u001b[38;5;129;01mor\u001b[39;00m now \u001b[38;5;241m>\u001b[39m end_time:\n\u001b[0;32m--> 226\u001b[0m         \u001b[38;5;28;01mraise\u001b[39;00m ServerSelectionTimeoutError(\n\u001b[1;32m    227\u001b[0m             \u001b[38;5;124m\"\u001b[39m\u001b[38;5;132;01m%s\u001b[39;00m\u001b[38;5;124m, Timeout: \u001b[39m\u001b[38;5;132;01m%s\u001b[39;00m\u001b[38;5;124ms, Topology Description: \u001b[39m\u001b[38;5;132;01m%r\u001b[39;00m\u001b[38;5;124m\"\u001b[39m\n\u001b[1;32m    228\u001b[0m             \u001b[38;5;241m%\u001b[39m (\u001b[38;5;28mself\u001b[39m\u001b[38;5;241m.\u001b[39m_error_message(selector), timeout, \u001b[38;5;28mself\u001b[39m\u001b[38;5;241m.\u001b[39mdescription)\n\u001b[1;32m    229\u001b[0m         )\n\u001b[1;32m    231\u001b[0m     \u001b[38;5;28mself\u001b[39m\u001b[38;5;241m.\u001b[39m_ensure_opened()\n\u001b[1;32m    232\u001b[0m     \u001b[38;5;28mself\u001b[39m\u001b[38;5;241m.\u001b[39m_request_check_all()\n",
      "\u001b[0;31mServerSelectionTimeoutError\u001b[0m: No primary available for writes, Timeout: 30s, Topology Description: <TopologyDescription id: 66100caed949d86b2a548aa7, topology_type: ReplicaSetNoPrimary, servers: [<ServerDescription ('fried.rice.edu', 27017) server_type: Unknown, rtt: None, error=NetworkTimeout('fried.rice.edu:27017: timed out')>, <ServerDescription ('xenon-rundb.grid.uchicago.edu', 27017) server_type: RSSecondary, rtt: 0.013266996592283248>, <ServerDescription ('xenon1t-daq.lngs.infn.it', 27015) server_type: Unknown, rtt: None, error=NetworkTimeout('xenon1t-daq.lngs.infn.it:27015: timed out')>, <ServerDescription ('xenon1t-daq.lngs.infn.it', 27017) server_type: Unknown, rtt: None, error=NetworkTimeout('xenon1t-daq.lngs.infn.it:27017: timed out')>, <ServerDescription ('xenon1t-daq.lngs.infn.it', 27018) server_type: Unknown, rtt: None, error=NetworkTimeout('xenon1t-daq.lngs.infn.it:27018: timed out')>]>"
     ]
    }
   ],
   "source": [
    "xd_db_dev.electron_lifetimes.insert(elife_new)"
   ]
  },
  {
   "cell_type": "code",
   "execution_count": 14,
   "id": "7bddf89a-3648-4eb1-9039-32a984b3c2a3",
   "metadata": {},
   "outputs": [
    {
     "data": {
      "text/plain": [
       "[{'version': 'v6',\n",
       "  'created_date': datetime.datetime(2023, 5, 19, 14, 59, 55, 878000, tzinfo=<UTC>),\n",
       "  'comments': '',\n",
       "  'time': datetime.datetime(2022, 9, 13, 11, 14, 46, 741000, tzinfo=<UTC>),\n",
       "  'value': 26141032.007023267},\n",
       " {'version': 'v7',\n",
       "  'created_date': datetime.datetime(2023, 2, 9, 15, 17, 26, 958000, tzinfo=<UTC>),\n",
       "  'comments': '',\n",
       "  'time': datetime.datetime(2022, 9, 13, 11, 14, 46, 741000, tzinfo=<UTC>),\n",
       "  'value': 23933929.779056724},\n",
       " {'version': 'v8',\n",
       "  'created_date': datetime.datetime(2023, 5, 19, 14, 59, 56, 820000, tzinfo=<UTC>),\n",
       "  'comments': '',\n",
       "  'time': datetime.datetime(2022, 9, 13, 11, 14, 46, 741000, tzinfo=<UTC>),\n",
       "  'value': 23933929.779056724},\n",
       " {'version': 'v9',\n",
       "  'created_date': datetime.datetime(2023, 12, 21, 17, 6, 54, 933000, tzinfo=<UTC>),\n",
       "  'comments': 'v9 EL version',\n",
       "  'time': datetime.datetime(2022, 9, 13, 11, 14, 46, 741000, tzinfo=<UTC>),\n",
       "  'value': 24203724.610794935},\n",
       " {'version': 'test*',\n",
       "  'created_date': datetime.datetime(2023, 1, 24, 17, 20, 42, 436000, tzinfo=<UTC>),\n",
       "  'comments': 'giving a 10% decrease to Electron lifetime',\n",
       "  'time': datetime.datetime(2022, 9, 13, 11, 14, 46, 741000, tzinfo=<UTC>),\n",
       "  'value': 7362379.160154001},\n",
       " {'version': 'test*2',\n",
       "  'created_date': datetime.datetime(2023, 1, 24, 17, 20, 42, 436000, tzinfo=<UTC>),\n",
       "  'comments': 'giving a 10% decrease to Electron lifetime',\n",
       "  'time': datetime.datetime(2022, 9, 13, 11, 14, 46, 741000, tzinfo=<UTC>),\n",
       "  'value': 6544337.031248}]"
      ]
     },
     "execution_count": 14,
     "metadata": {},
     "output_type": "execute_result"
    }
   ],
   "source": [
    "list(xd_db_dev.electron_lifetimes.find(run_id = run_id))"
   ]
  },
  {
   "cell_type": "code",
   "execution_count": 15,
   "id": "d8b80e36-99d9-4fbd-af5e-f9e39f7aa8e1",
   "metadata": {},
   "outputs": [],
   "source": [
    "elife_new = xd.schemas.ElectronLifetime(value=elife_online[0].value*0.80, version='test*3', \n",
    "                                        run_id=run_id, datasource = 'development_db',\n",
    "                                        comments='giving a 10% decrease to Electron lifetime')"
   ]
  },
  {
   "cell_type": "code",
   "execution_count": 16,
   "id": "6c0080a2-fc1c-410f-8410-9ec71d135c10",
   "metadata": {},
   "outputs": [
    {
     "ename": "ServerSelectionTimeoutError",
     "evalue": "No primary available for writes, Timeout: 30s, Topology Description: <TopologyDescription id: 66100ce4d949d86b2a548aaa, topology_type: ReplicaSetNoPrimary, servers: [<ServerDescription ('fried.rice.edu', 27017) server_type: Unknown, rtt: None, error=NetworkTimeout('fried.rice.edu:27017: timed out')>, <ServerDescription ('xenon-rundb.grid.uchicago.edu', 27017) server_type: RSSecondary, rtt: 0.013740354090929033>, <ServerDescription ('xenon1t-daq.lngs.infn.it', 27015) server_type: Unknown, rtt: None, error=NetworkTimeout('xenon1t-daq.lngs.infn.it:27015: timed out')>, <ServerDescription ('xenon1t-daq.lngs.infn.it', 27017) server_type: Unknown, rtt: None, error=NetworkTimeout('xenon1t-daq.lngs.infn.it:27017: timed out')>, <ServerDescription ('xenon1t-daq.lngs.infn.it', 27018) server_type: Unknown, rtt: None, error=NetworkTimeout('xenon1t-daq.lngs.infn.it:27018: timed out')>]>",
     "output_type": "error",
     "traceback": [
      "\u001b[0;31m---------------------------------------------------------------------------\u001b[0m",
      "\u001b[0;31mServerSelectionTimeoutError\u001b[0m               Traceback (most recent call last)",
      "Cell \u001b[0;32mIn[16], line 2\u001b[0m\n\u001b[1;32m      1\u001b[0m \u001b[38;5;66;03m# there is another way to save this data\u001b[39;00m\n\u001b[0;32m----> 2\u001b[0m \u001b[43mxd\u001b[49m\u001b[38;5;241;43m.\u001b[39;49m\u001b[43minsert_docs\u001b[49m\u001b[43m(\u001b[49m\u001b[38;5;124;43m'\u001b[39;49m\u001b[38;5;124;43melectron_lifetimes\u001b[39;49m\u001b[38;5;124;43m'\u001b[39;49m\u001b[43m,\u001b[49m\u001b[43m \u001b[49m\u001b[43melife_new\u001b[49m\u001b[43m,\u001b[49m\u001b[43m \u001b[49m\u001b[38;5;124;43m'\u001b[39;49m\u001b[38;5;124;43mdevelopment_db\u001b[39;49m\u001b[38;5;124;43m'\u001b[39;49m\u001b[43m)\u001b[49m\n",
      "File \u001b[0;32m~/XENONnT/xedocs/xedocs/xedocs.py:121\u001b[0m, in \u001b[0;36minsert_docs\u001b[0;34m(schema, docs, datasource, dry)\u001b[0m\n\u001b[1;32m    118\u001b[0m     docs \u001b[38;5;241m=\u001b[39m [docs]\n\u001b[1;32m    119\u001b[0m accessor \u001b[38;5;241m=\u001b[39m get_accessor(schema, datasource)\n\u001b[0;32m--> 121\u001b[0m \u001b[38;5;28;01mreturn\u001b[39;00m \u001b[43maccessor\u001b[49m\u001b[38;5;241;43m.\u001b[39;49m\u001b[43minsert\u001b[49m\u001b[43m(\u001b[49m\u001b[43mdocs\u001b[49m\u001b[43m,\u001b[49m\u001b[43m \u001b[49m\u001b[43mdry\u001b[49m\u001b[38;5;241;43m=\u001b[39;49m\u001b[43mdry\u001b[49m\u001b[43m)\u001b[49m\n",
      "File \u001b[0;32m/opt/XENONnT/anaconda/envs/XENONnT_2024.02.1/lib/python3.9/site-packages/rframe/data_accessor.py:165\u001b[0m, in \u001b[0;36mDataAccessor.insert\u001b[0;34m(self, docs, raise_on_error, dry)\u001b[0m\n\u001b[1;32m    163\u001b[0m \u001b[38;5;28;01mdef\u001b[39;00m \u001b[38;5;21minsert\u001b[39m(\u001b[38;5;28mself\u001b[39m, docs, raise_on_error\u001b[38;5;241m=\u001b[39m\u001b[38;5;28;01mTrue\u001b[39;00m, dry\u001b[38;5;241m=\u001b[39m\u001b[38;5;28;01mFalse\u001b[39;00m):\n\u001b[1;32m    164\u001b[0m     \u001b[38;5;28;01mif\u001b[39;00m \u001b[38;5;129;01mnot\u001b[39;00m \u001b[38;5;28mself\u001b[39m\u001b[38;5;241m.\u001b[39minitialized:\n\u001b[0;32m--> 165\u001b[0m         \u001b[38;5;28;43mself\u001b[39;49m\u001b[38;5;241;43m.\u001b[39;49m\u001b[43minitdb\u001b[49m\u001b[43m(\u001b[49m\u001b[43m)\u001b[49m\n\u001b[1;32m    167\u001b[0m     \u001b[38;5;28;01mif\u001b[39;00m \u001b[38;5;129;01mnot\u001b[39;00m \u001b[38;5;28misinstance\u001b[39m(docs, (\u001b[38;5;28mlist\u001b[39m, \u001b[38;5;28mtuple\u001b[39m)):\n\u001b[1;32m    168\u001b[0m         docs \u001b[38;5;241m=\u001b[39m [docs]\n",
      "File \u001b[0;32m/opt/XENONnT/anaconda/envs/XENONnT_2024.02.1/lib/python3.9/site-packages/rframe/data_accessor.py:216\u001b[0m, in \u001b[0;36mDataAccessor.initdb\u001b[0;34m(self)\u001b[0m\n\u001b[1;32m    215\u001b[0m \u001b[38;5;28;01mdef\u001b[39;00m \u001b[38;5;21minitdb\u001b[39m(\u001b[38;5;28mself\u001b[39m):\n\u001b[0;32m--> 216\u001b[0m     \u001b[38;5;28;43mself\u001b[39;49m\u001b[38;5;241;43m.\u001b[39;49m\u001b[43mschema\u001b[49m\u001b[38;5;241;43m.\u001b[39;49m\u001b[43minitdb\u001b[49m\u001b[43m(\u001b[49m\u001b[38;5;28;43mself\u001b[39;49m\u001b[38;5;241;43m.\u001b[39;49m\u001b[43mstorage\u001b[49m\u001b[43m)\u001b[49m\n\u001b[1;32m    217\u001b[0m     \u001b[38;5;28mself\u001b[39m\u001b[38;5;241m.\u001b[39minitialized \u001b[38;5;241m=\u001b[39m \u001b[38;5;28;01mTrue\u001b[39;00m\n",
      "File \u001b[0;32m/opt/XENONnT/anaconda/envs/XENONnT_2024.02.1/lib/python3.9/site-packages/rframe/schema.py:349\u001b[0m, in \u001b[0;36mBaseSchema.initdb\u001b[0;34m(cls, datasource, **kwargs)\u001b[0m\n\u001b[1;32m    346\u001b[0m \u001b[38;5;129m@classmethod\u001b[39m\n\u001b[1;32m    347\u001b[0m \u001b[38;5;28;01mdef\u001b[39;00m \u001b[38;5;21minitdb\u001b[39m(\u001b[38;5;28mcls\u001b[39m, datasource, \u001b[38;5;241m*\u001b[39m\u001b[38;5;241m*\u001b[39mkwargs):\n\u001b[1;32m    348\u001b[0m     interface \u001b[38;5;241m=\u001b[39m get_interface(datasource, \u001b[38;5;241m*\u001b[39m\u001b[38;5;241m*\u001b[39mkwargs)\n\u001b[0;32m--> 349\u001b[0m     \u001b[43minterface\u001b[49m\u001b[38;5;241;43m.\u001b[39;49m\u001b[43minitdb\u001b[49m\u001b[43m(\u001b[49m\u001b[38;5;28;43mcls\u001b[39;49m\u001b[43m)\u001b[49m\n",
      "File \u001b[0;32m/opt/XENONnT/anaconda/envs/XENONnT_2024.02.1/lib/python3.9/site-packages/rframe/interfaces/mongo.py:647\u001b[0m, in \u001b[0;36mMongoInterface.initdb\u001b[0;34m(self, schema)\u001b[0m\n\u001b[1;32m    645\u001b[0m \u001b[38;5;28;01mdef\u001b[39;00m \u001b[38;5;21minitdb\u001b[39m(\u001b[38;5;28mself\u001b[39m, schema):\n\u001b[1;32m    646\u001b[0m     index_names \u001b[38;5;241m=\u001b[39m \u001b[38;5;28mlist\u001b[39m(schema\u001b[38;5;241m.\u001b[39mget_index_fields())\n\u001b[0;32m--> 647\u001b[0m     \u001b[38;5;28;43mself\u001b[39;49m\u001b[38;5;241;43m.\u001b[39;49m\u001b[43mensure_index\u001b[49m\u001b[43m(\u001b[49m\u001b[43mindex_names\u001b[49m\u001b[43m)\u001b[49m\n",
      "File \u001b[0;32m/opt/XENONnT/anaconda/envs/XENONnT_2024.02.1/lib/python3.9/site-packages/rframe/interfaces/mongo.py:639\u001b[0m, in \u001b[0;36mMongoInterface.ensure_index\u001b[0;34m(self, names, order)\u001b[0m\n\u001b[1;32m    638\u001b[0m \u001b[38;5;28;01mdef\u001b[39;00m \u001b[38;5;21mensure_index\u001b[39m(\u001b[38;5;28mself\u001b[39m, names, order\u001b[38;5;241m=\u001b[39mpymongo\u001b[38;5;241m.\u001b[39mASCENDING):\n\u001b[0;32m--> 639\u001b[0m     \u001b[38;5;28;43mself\u001b[39;49m\u001b[38;5;241;43m.\u001b[39;49m\u001b[43msource\u001b[49m\u001b[38;5;241;43m.\u001b[39;49m\u001b[43mcreate_index\u001b[49m\u001b[43m(\u001b[49m\u001b[43m[\u001b[49m\u001b[43m(\u001b[49m\u001b[43mname\u001b[49m\u001b[43m,\u001b[49m\u001b[43m \u001b[49m\u001b[43morder\u001b[49m\u001b[43m)\u001b[49m\u001b[43m \u001b[49m\u001b[38;5;28;43;01mfor\u001b[39;49;00m\u001b[43m \u001b[49m\u001b[43mname\u001b[49m\u001b[43m \u001b[49m\u001b[38;5;129;43;01min\u001b[39;49;00m\u001b[43m \u001b[49m\u001b[43mnames\u001b[49m\u001b[43m]\u001b[49m\u001b[43m)\u001b[49m\n",
      "File \u001b[0;32m~/.local/lib/python3.9/site-packages/pymongo/collection.py:2271\u001b[0m, in \u001b[0;36mCollection.create_index\u001b[0;34m(self, keys, session, **kwargs)\u001b[0m\n\u001b[1;32m   2269\u001b[0m     cmd_options[\u001b[38;5;124m\"\u001b[39m\u001b[38;5;124mmaxTimeMS\u001b[39m\u001b[38;5;124m\"\u001b[39m] \u001b[38;5;241m=\u001b[39m kwargs\u001b[38;5;241m.\u001b[39mpop(\u001b[38;5;124m\"\u001b[39m\u001b[38;5;124mmaxTimeMS\u001b[39m\u001b[38;5;124m\"\u001b[39m)\n\u001b[1;32m   2270\u001b[0m index \u001b[38;5;241m=\u001b[39m IndexModel(keys, \u001b[38;5;241m*\u001b[39m\u001b[38;5;241m*\u001b[39mkwargs)\n\u001b[0;32m-> 2271\u001b[0m \u001b[38;5;28;01mreturn\u001b[39;00m \u001b[38;5;28;43mself\u001b[39;49m\u001b[38;5;241;43m.\u001b[39;49m\u001b[43m__create_indexes\u001b[49m\u001b[43m(\u001b[49m\u001b[43m[\u001b[49m\u001b[43mindex\u001b[49m\u001b[43m]\u001b[49m\u001b[43m,\u001b[49m\u001b[43m \u001b[49m\u001b[43msession\u001b[49m\u001b[43m,\u001b[49m\u001b[43m \u001b[49m\u001b[38;5;241;43m*\u001b[39;49m\u001b[38;5;241;43m*\u001b[39;49m\u001b[43mcmd_options\u001b[49m\u001b[43m)\u001b[49m[\u001b[38;5;241m0\u001b[39m]\n",
      "File \u001b[0;32m~/.local/lib/python3.9/site-packages/pymongo/collection.py:2129\u001b[0m, in \u001b[0;36mCollection.__create_indexes\u001b[0;34m(self, indexes, session, **kwargs)\u001b[0m\n\u001b[1;32m   2118\u001b[0m \u001b[38;5;250m\u001b[39m\u001b[38;5;124;03m\"\"\"Internal createIndexes helper.\u001b[39;00m\n\u001b[1;32m   2119\u001b[0m \n\u001b[1;32m   2120\u001b[0m \u001b[38;5;124;03m:Parameters:\u001b[39;00m\n\u001b[0;32m   (...)\u001b[0m\n\u001b[1;32m   2126\u001b[0m \u001b[38;5;124;03m    command (like maxTimeMS) can be passed as keyword arguments.\u001b[39;00m\n\u001b[1;32m   2127\u001b[0m \u001b[38;5;124;03m\"\"\"\u001b[39;00m\n\u001b[1;32m   2128\u001b[0m names \u001b[38;5;241m=\u001b[39m []\n\u001b[0;32m-> 2129\u001b[0m \u001b[38;5;28;01mwith\u001b[39;00m \u001b[38;5;28;43mself\u001b[39;49m\u001b[38;5;241;43m.\u001b[39;49m\u001b[43m_socket_for_writes\u001b[49m\u001b[43m(\u001b[49m\u001b[43msession\u001b[49m\u001b[43m)\u001b[49m \u001b[38;5;28;01mas\u001b[39;00m sock_info:\n\u001b[1;32m   2130\u001b[0m     supports_collations \u001b[38;5;241m=\u001b[39m sock_info\u001b[38;5;241m.\u001b[39mmax_wire_version \u001b[38;5;241m>\u001b[39m\u001b[38;5;241m=\u001b[39m \u001b[38;5;241m5\u001b[39m\n\u001b[1;32m   2131\u001b[0m     supports_quorum \u001b[38;5;241m=\u001b[39m sock_info\u001b[38;5;241m.\u001b[39mmax_wire_version \u001b[38;5;241m>\u001b[39m\u001b[38;5;241m=\u001b[39m \u001b[38;5;241m9\u001b[39m\n",
      "File \u001b[0;32m~/.local/lib/python3.9/site-packages/pymongo/collection.py:203\u001b[0m, in \u001b[0;36mCollection._socket_for_writes\u001b[0;34m(self, session)\u001b[0m\n\u001b[1;32m    202\u001b[0m \u001b[38;5;28;01mdef\u001b[39;00m \u001b[38;5;21m_socket_for_writes\u001b[39m(\u001b[38;5;28mself\u001b[39m, session):\n\u001b[0;32m--> 203\u001b[0m     \u001b[38;5;28;01mreturn\u001b[39;00m \u001b[38;5;28;43mself\u001b[39;49m\u001b[38;5;241;43m.\u001b[39;49m\u001b[43m__database\u001b[49m\u001b[38;5;241;43m.\u001b[39;49m\u001b[43mclient\u001b[49m\u001b[38;5;241;43m.\u001b[39;49m\u001b[43m_socket_for_writes\u001b[49m\u001b[43m(\u001b[49m\u001b[43msession\u001b[49m\u001b[43m)\u001b[49m\n",
      "File \u001b[0;32m~/.local/lib/python3.9/site-packages/pymongo/mongo_client.py:1446\u001b[0m, in \u001b[0;36mMongoClient._socket_for_writes\u001b[0;34m(self, session)\u001b[0m\n\u001b[1;32m   1445\u001b[0m \u001b[38;5;28;01mdef\u001b[39;00m \u001b[38;5;21m_socket_for_writes\u001b[39m(\u001b[38;5;28mself\u001b[39m, session):\n\u001b[0;32m-> 1446\u001b[0m     server \u001b[38;5;241m=\u001b[39m \u001b[38;5;28;43mself\u001b[39;49m\u001b[38;5;241;43m.\u001b[39;49m\u001b[43m_select_server\u001b[49m\u001b[43m(\u001b[49m\u001b[43mwritable_server_selector\u001b[49m\u001b[43m,\u001b[49m\u001b[43m \u001b[49m\u001b[43msession\u001b[49m\u001b[43m)\u001b[49m\n\u001b[1;32m   1447\u001b[0m     \u001b[38;5;28;01mreturn\u001b[39;00m \u001b[38;5;28mself\u001b[39m\u001b[38;5;241m.\u001b[39m_get_socket(server, session)\n",
      "File \u001b[0;32m~/.local/lib/python3.9/site-packages/pymongo/mongo_client.py:1436\u001b[0m, in \u001b[0;36mMongoClient._select_server\u001b[0;34m(self, server_selector, session, address)\u001b[0m\n\u001b[1;32m   1434\u001b[0m             \u001b[38;5;28;01mraise\u001b[39;00m AutoReconnect(\u001b[38;5;124m\"\u001b[39m\u001b[38;5;124mserver \u001b[39m\u001b[38;5;132;01m%s\u001b[39;00m\u001b[38;5;124m:\u001b[39m\u001b[38;5;132;01m%d\u001b[39;00m\u001b[38;5;124m no longer available\u001b[39m\u001b[38;5;124m\"\u001b[39m \u001b[38;5;241m%\u001b[39m address)\n\u001b[1;32m   1435\u001b[0m     \u001b[38;5;28;01melse\u001b[39;00m:\n\u001b[0;32m-> 1436\u001b[0m         server \u001b[38;5;241m=\u001b[39m \u001b[43mtopology\u001b[49m\u001b[38;5;241;43m.\u001b[39;49m\u001b[43mselect_server\u001b[49m\u001b[43m(\u001b[49m\u001b[43mserver_selector\u001b[49m\u001b[43m)\u001b[49m\n\u001b[1;32m   1437\u001b[0m     \u001b[38;5;28;01mreturn\u001b[39;00m server\n\u001b[1;32m   1438\u001b[0m \u001b[38;5;28;01mexcept\u001b[39;00m PyMongoError \u001b[38;5;28;01mas\u001b[39;00m exc:\n\u001b[1;32m   1439\u001b[0m     \u001b[38;5;66;03m# Server selection errors in a transaction are transient.\u001b[39;00m\n",
      "File \u001b[0;32m~/.local/lib/python3.9/site-packages/pymongo/topology.py:250\u001b[0m, in \u001b[0;36mTopology.select_server\u001b[0;34m(self, selector, server_selection_timeout, address)\u001b[0m\n\u001b[1;32m    248\u001b[0m \u001b[38;5;28;01mdef\u001b[39;00m \u001b[38;5;21mselect_server\u001b[39m(\u001b[38;5;28mself\u001b[39m, selector, server_selection_timeout\u001b[38;5;241m=\u001b[39m\u001b[38;5;28;01mNone\u001b[39;00m, address\u001b[38;5;241m=\u001b[39m\u001b[38;5;28;01mNone\u001b[39;00m):\n\u001b[1;32m    249\u001b[0m \u001b[38;5;250m    \u001b[39m\u001b[38;5;124;03m\"\"\"Like select_servers, but choose a random server if several match.\"\"\"\u001b[39;00m\n\u001b[0;32m--> 250\u001b[0m     \u001b[38;5;28;01mreturn\u001b[39;00m random\u001b[38;5;241m.\u001b[39mchoice(\u001b[38;5;28;43mself\u001b[39;49m\u001b[38;5;241;43m.\u001b[39;49m\u001b[43mselect_servers\u001b[49m\u001b[43m(\u001b[49m\u001b[43mselector\u001b[49m\u001b[43m,\u001b[49m\u001b[43m \u001b[49m\u001b[43mserver_selection_timeout\u001b[49m\u001b[43m,\u001b[49m\u001b[43m \u001b[49m\u001b[43maddress\u001b[49m\u001b[43m)\u001b[49m)\n",
      "File \u001b[0;32m~/.local/lib/python3.9/site-packages/pymongo/topology.py:211\u001b[0m, in \u001b[0;36mTopology.select_servers\u001b[0;34m(self, selector, server_selection_timeout, address)\u001b[0m\n\u001b[1;32m    208\u001b[0m     server_timeout \u001b[38;5;241m=\u001b[39m server_selection_timeout\n\u001b[1;32m    210\u001b[0m \u001b[38;5;28;01mwith\u001b[39;00m \u001b[38;5;28mself\u001b[39m\u001b[38;5;241m.\u001b[39m_lock:\n\u001b[0;32m--> 211\u001b[0m     server_descriptions \u001b[38;5;241m=\u001b[39m \u001b[38;5;28;43mself\u001b[39;49m\u001b[38;5;241;43m.\u001b[39;49m\u001b[43m_select_servers_loop\u001b[49m\u001b[43m(\u001b[49m\u001b[43mselector\u001b[49m\u001b[43m,\u001b[49m\u001b[43m \u001b[49m\u001b[43mserver_timeout\u001b[49m\u001b[43m,\u001b[49m\u001b[43m \u001b[49m\u001b[43maddress\u001b[49m\u001b[43m)\u001b[49m\n\u001b[1;32m    213\u001b[0m     \u001b[38;5;28;01mreturn\u001b[39;00m [\u001b[38;5;28mself\u001b[39m\u001b[38;5;241m.\u001b[39mget_server_by_address(sd\u001b[38;5;241m.\u001b[39maddress) \u001b[38;5;28;01mfor\u001b[39;00m sd \u001b[38;5;129;01min\u001b[39;00m server_descriptions]\n",
      "File \u001b[0;32m~/.local/lib/python3.9/site-packages/pymongo/topology.py:226\u001b[0m, in \u001b[0;36mTopology._select_servers_loop\u001b[0;34m(self, selector, timeout, address)\u001b[0m\n\u001b[1;32m    223\u001b[0m \u001b[38;5;28;01mwhile\u001b[39;00m \u001b[38;5;129;01mnot\u001b[39;00m server_descriptions:\n\u001b[1;32m    224\u001b[0m     \u001b[38;5;66;03m# No suitable servers.\u001b[39;00m\n\u001b[1;32m    225\u001b[0m     \u001b[38;5;28;01mif\u001b[39;00m timeout \u001b[38;5;241m==\u001b[39m \u001b[38;5;241m0\u001b[39m \u001b[38;5;129;01mor\u001b[39;00m now \u001b[38;5;241m>\u001b[39m end_time:\n\u001b[0;32m--> 226\u001b[0m         \u001b[38;5;28;01mraise\u001b[39;00m ServerSelectionTimeoutError(\n\u001b[1;32m    227\u001b[0m             \u001b[38;5;124m\"\u001b[39m\u001b[38;5;132;01m%s\u001b[39;00m\u001b[38;5;124m, Timeout: \u001b[39m\u001b[38;5;132;01m%s\u001b[39;00m\u001b[38;5;124ms, Topology Description: \u001b[39m\u001b[38;5;132;01m%r\u001b[39;00m\u001b[38;5;124m\"\u001b[39m\n\u001b[1;32m    228\u001b[0m             \u001b[38;5;241m%\u001b[39m (\u001b[38;5;28mself\u001b[39m\u001b[38;5;241m.\u001b[39m_error_message(selector), timeout, \u001b[38;5;28mself\u001b[39m\u001b[38;5;241m.\u001b[39mdescription)\n\u001b[1;32m    229\u001b[0m         )\n\u001b[1;32m    231\u001b[0m     \u001b[38;5;28mself\u001b[39m\u001b[38;5;241m.\u001b[39m_ensure_opened()\n\u001b[1;32m    232\u001b[0m     \u001b[38;5;28mself\u001b[39m\u001b[38;5;241m.\u001b[39m_request_check_all()\n",
      "\u001b[0;31mServerSelectionTimeoutError\u001b[0m: No primary available for writes, Timeout: 30s, Topology Description: <TopologyDescription id: 66100ce4d949d86b2a548aaa, topology_type: ReplicaSetNoPrimary, servers: [<ServerDescription ('fried.rice.edu', 27017) server_type: Unknown, rtt: None, error=NetworkTimeout('fried.rice.edu:27017: timed out')>, <ServerDescription ('xenon-rundb.grid.uchicago.edu', 27017) server_type: RSSecondary, rtt: 0.013740354090929033>, <ServerDescription ('xenon1t-daq.lngs.infn.it', 27015) server_type: Unknown, rtt: None, error=NetworkTimeout('xenon1t-daq.lngs.infn.it:27015: timed out')>, <ServerDescription ('xenon1t-daq.lngs.infn.it', 27017) server_type: Unknown, rtt: None, error=NetworkTimeout('xenon1t-daq.lngs.infn.it:27017: timed out')>, <ServerDescription ('xenon1t-daq.lngs.infn.it', 27018) server_type: Unknown, rtt: None, error=NetworkTimeout('xenon1t-daq.lngs.infn.it:27018: timed out')>]>"
     ]
    }
   ],
   "source": [
    "# there is another way to save this data\n",
    "xd.insert_docs('electron_lifetimes', elife_new, 'development_db')"
   ]
  },
  {
   "cell_type": "code",
   "execution_count": null,
   "id": "52a7f164-e50a-447e-8216-ff8357b43cd1",
   "metadata": {},
   "outputs": [],
   "source": [
    "list(xd_db_dev.electron_lifetimes.find(run_id = run_id))"
   ]
  },
  {
   "cell_type": "markdown",
   "id": "cd09a892-a9ff-4861-8a9d-6d1473888ff0",
   "metadata": {},
   "source": [
    "#### Now to save data in our own database!"
   ]
  },
  {
   "cell_type": "markdown",
   "id": "82f4d4ca-4db2-4978-a915-6f74c8aff0fd",
   "metadata": {},
   "source": [
    "You will not have access to the config file bellow, however if you have mongoDB installed locally you can just ommit the the host, username and password information and just connect to your local mongo_db. You can also call the database whatever you want."
   ]
  },
  {
   "cell_type": "code",
   "execution_count": null,
   "id": "ca8d9c09-c6a5-426d-81fc-f6708825014d",
   "metadata": {},
   "outputs": [],
   "source": [
    "import config\n",
    "\n",
    "host = config.mongo_rdb_url\n",
    "username = config.mongo_rdb_username\n",
    "password = config.mongo_rdb_password"
   ]
  },
  {
   "cell_type": "code",
   "execution_count": null,
   "id": "1977e7ac-f61b-479b-b6cb-82f4a7a7a578",
   "metadata": {},
   "outputs": [],
   "source": [
    "db = pymongo.MongoClient(host = host,\n",
    "                        username = username,\n",
    "                        password = password)['correctionsSandbox']"
   ]
  },
  {
   "cell_type": "code",
   "execution_count": null,
   "id": "bb2d859a-6f1f-4bac-b0db-f6159c017212",
   "metadata": {},
   "outputs": [],
   "source": [
    "xd.schemas.ElectronLifetime.find(version = 'test*', datasource = db['electron_lifetimes'])"
   ]
  },
  {
   "cell_type": "code",
   "execution_count": null,
   "id": "ecee7a54-e358-4371-94df-3c2101bd0108",
   "metadata": {},
   "outputs": [],
   "source": [
    "new_elife = xd.schemas.ElectronLifetime(value = 123456, version = 'test*', run_id = run_id)"
   ]
  },
  {
   "cell_type": "code",
   "execution_count": null,
   "id": "197aaf84-57b8-4b8f-9a01-2b30c42f6e89",
   "metadata": {},
   "outputs": [],
   "source": [
    "new_elife.save(db['electron_lifetimes'])"
   ]
  },
  {
   "cell_type": "code",
   "execution_count": null,
   "id": "70a9e5b9-9a16-43b5-8f75-e6b91a86bc99",
   "metadata": {},
   "outputs": [],
   "source": [
    "xd.schemas.ElectronLifetime.find(version = 'test*', datasource = db['electron_lifetimes'])"
   ]
  },
  {
   "cell_type": "markdown",
   "id": "2366e3f7-eb6b-4fc4-9fdf-c786d526cb12",
   "metadata": {},
   "source": [
    "Success! we have inserted data into our own mongo database!"
   ]
  },
  {
   "cell_type": "code",
   "execution_count": null,
   "id": "63666add-554f-4898-bf4f-c60ac9cdf643",
   "metadata": {},
   "outputs": [],
   "source": []
  }
 ],
 "metadata": {
  "kernelspec": {
   "display_name": "Python 3 (ipykernel)",
   "language": "python",
   "name": "python3"
  },
  "language_info": {
   "codemirror_mode": {
    "name": "ipython",
    "version": 3
   },
   "file_extension": ".py",
   "mimetype": "text/x-python",
   "name": "python",
   "nbconvert_exporter": "python",
   "pygments_lexer": "ipython3",
   "version": "3.9.18"
  }
 },
 "nbformat": 4,
 "nbformat_minor": 5
}
