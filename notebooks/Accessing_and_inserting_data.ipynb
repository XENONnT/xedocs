{
 "cells": [
  {
   "cell_type": "markdown",
   "id": "10b64759-6bb7-4bd6-98cd-2e6f9a02faa0",
   "metadata": {},
   "source": [
    "# Xedocs user guide"
   ]
  },
  {
   "cell_type": "markdown",
   "id": "23bf2c2c-32dd-4f58-9ece-260957e799ca",
   "metadata": {},
   "source": [
    "This tutorial serves as a basic introduction to xedocs. Xedocs is the replacement of CMT (Correction Management System) and will be used moving forward to store, save and access correction data as well as other metadata needed for the XENONnT experiment moving forward. The main goal with xedocs was to have a system with the following requierments: We want versioned data that is flexible enough to adapt to future changes, to have insertion rules and to follow time dependace requirements. "
   ]
  },
  {
   "cell_type": "code",
   "execution_count": null,
   "id": "35e7ee98-8aa1-423a-be13-6df32a6e51b4",
   "metadata": {},
   "outputs": [],
   "source": [
    "import strax\n",
    "import straxen\n",
    "import xedocs as xd\n",
    "import numpy as np\n",
    "import rframe\n",
    "import pymongo\n",
    "import matplotlib.pyplot as plt"
   ]
  },
  {
   "cell_type": "code",
   "execution_count": null,
   "id": "a63e81e1-d7c6-4267-99a6-ffa3385a445b",
   "metadata": {},
   "outputs": [],
   "source": [
    "straxen.print_versions('strax straxen rframe xedocs'.split())"
   ]
  },
  {
   "cell_type": "markdown",
   "id": "47aeff8f-5ccb-48cd-bc5f-5e2b2a7235bf",
   "metadata": {},
   "source": [
    "With xedocs we can use schemas to get different corrections from multiple sources such as bodega (refered to as 'detector numbers'), the xedocs databse, or even your own! Schemas are python classes with certain properties and functions to deal with the backend of storing data as well as rules such as preventing the deletion and overwritting of existing data!\n",
    "<br>\n",
    "Lets look at some of the schemas that are available!"
   ]
  },
  {
   "cell_type": "code",
   "execution_count": null,
   "id": "86b916d5-01a2-40ef-8a45-4b7f20ae35df",
   "metadata": {},
   "outputs": [],
   "source": [
    "xd.list_schemas()"
   ]
  },
  {
   "cell_type": "markdown",
   "id": "d477a847-91b9-4386-b2dd-6670b0905627",
   "metadata": {},
   "source": [
    "### Accessing Data"
   ]
  },
  {
   "cell_type": "markdown",
   "id": "05cd9346-9f60-4aba-8d32-1bc195fcb13c",
   "metadata": {},
   "source": [
    "The development database is a database in which everyone can enter their own corrections, it will also have all the values for each correction. To avoid confusion make sure to label the version as something that cannot possibly be a real correction, here I will use test* "
   ]
  },
  {
   "cell_type": "code",
   "execution_count": null,
   "id": "bb8ff114-9576-4590-baa0-8fbc0167693f",
   "metadata": {},
   "outputs": [],
   "source": [
    "xd_db_dev = xd.development_db()"
   ]
  },
  {
   "cell_type": "markdown",
   "id": "91fc460c-5e3b-48e4-a892-440d5c31dd74",
   "metadata": {},
   "source": [
    "The straxen database on the other had will have the real value of all correction and data can only be insterted into this database after other memebers of the colaboration have agreed that his value should be inserted."
   ]
  },
  {
   "cell_type": "code",
   "execution_count": null,
   "id": "c5969db2-cd7b-4a76-b4d7-416ad5089470",
   "metadata": {},
   "outputs": [],
   "source": [
    "xd_db_stx = xd.straxen_db()"
   ]
  },
  {
   "cell_type": "markdown",
   "id": "5cc7c19e-b5d7-4dc2-a7b0-d0dc44140034",
   "metadata": {},
   "source": [
    "The data can be returned to the user in a varaiety of formats, for example in a pandas dataframe structure:"
   ]
  },
  {
   "cell_type": "markdown",
   "id": "023881cb-0e14-4011-b462-67dd8d2d17bd",
   "metadata": {},
   "source": [
    "#### Dataframe format"
   ]
  },
  {
   "cell_type": "code",
   "execution_count": null,
   "id": "423211a7-07d3-442d-9508-07f0d2d6856d",
   "metadata": {},
   "outputs": [],
   "source": [
    "xd_db_stx.electron_lifetimes.find_df(version='ONLINE')"
   ]
  },
  {
   "cell_type": "code",
   "execution_count": null,
   "id": "2e1472db-cb3b-4afa-bd14-c64b5fb46c85",
   "metadata": {},
   "outputs": [],
   "source": [
    "elife = xd_db_stx.electron_lifetimes.find_df(version='ONLINE') # if you try to "
   ]
  },
  {
   "cell_type": "code",
   "execution_count": null,
   "id": "fb5a6eb3-7c96-468d-a258-0f3ba141974e",
   "metadata": {},
   "outputs": [],
   "source": [
    "elife"
   ]
  },
  {
   "cell_type": "markdown",
   "id": "6433b7e1-c97a-42aa-9d5c-4f442737fd0b",
   "metadata": {},
   "source": [
    "#### list format"
   ]
  },
  {
   "cell_type": "code",
   "execution_count": null,
   "id": "89915ce8-1457-48b8-a4b4-b634559f75c9",
   "metadata": {},
   "outputs": [],
   "source": [
    "elife = xd_db_stx.electron_lifetimes.find(version='ONLINE') # if you try to "
   ]
  },
  {
   "cell_type": "code",
   "execution_count": null,
   "id": "6d78777a-d998-4b1b-9f05-13a460a696a0",
   "metadata": {},
   "outputs": [],
   "source": [
    "list(elife)[:3]"
   ]
  },
  {
   "cell_type": "markdown",
   "id": "f9396164-99c2-4693-8f52-9dce78afa6dc",
   "metadata": {},
   "source": [
    "#### Dict format"
   ]
  },
  {
   "cell_type": "code",
   "execution_count": null,
   "id": "afe80312-0ad5-47f6-855d-18a513868ca0",
   "metadata": {},
   "outputs": [],
   "source": [
    "elife = xd_db_stx.electron_lifetimes.find_dicts(version='ONLINE') # if you try to "
   ]
  },
  {
   "cell_type": "code",
   "execution_count": null,
   "id": "5416d4f9-c18c-4b30-bd2b-8a58d231f0d0",
   "metadata": {},
   "outputs": [],
   "source": [
    "elife[:3]"
   ]
  },
  {
   "cell_type": "markdown",
   "id": "90f8868f-8c53-4513-a844-e06b819e12d8",
   "metadata": {},
   "source": [
    "#### \"Docs\" format"
   ]
  },
  {
   "cell_type": "code",
   "execution_count": null,
   "id": "74500007-8fcc-4d56-8137-5f8c2c3239f1",
   "metadata": {},
   "outputs": [],
   "source": [
    "elife = xd_db_stx.electron_lifetimes.find_docs(version='ONLINE') # if you try to "
   ]
  },
  {
   "cell_type": "code",
   "execution_count": null,
   "id": "fec6b66b-3c40-4b14-8840-c20294b2670f",
   "metadata": {},
   "outputs": [],
   "source": [
    "elife[:3]"
   ]
  },
  {
   "cell_type": "markdown",
   "id": "16722fd3-dbe3-4c9c-babf-c453bc2e6282",
   "metadata": {},
   "source": [
    "#### You can just get one data point if that is all you want!"
   ]
  },
  {
   "cell_type": "code",
   "execution_count": null,
   "id": "00d502b5-756f-42cc-a474-b6cc81bfc8a6",
   "metadata": {},
   "outputs": [],
   "source": [
    "elife = xd_db_stx.electron_lifetimes.find_one(version='ONLINE') # if you try to "
   ]
  },
  {
   "cell_type": "code",
   "execution_count": null,
   "id": "ccf384cc-b91d-4759-a66e-7c253167d5f3",
   "metadata": {},
   "outputs": [],
   "source": [
    "elife"
   ]
  },
  {
   "cell_type": "markdown",
   "id": "91d6f918-45ac-457c-be0f-3ee8ce5db7b4",
   "metadata": {},
   "source": [
    "##### You can pass many different arguments into the search parameters to make your scope as limited or as wide as you might want it, you can also use _sort options if you want the data to be returned in a particualr order."
   ]
  },
  {
   "cell_type": "code",
   "execution_count": null,
   "id": "e28ade1d-1149-46f8-9335-87f301709b1a",
   "metadata": {},
   "outputs": [],
   "source": [
    "rel_ext_eff = xd_db_stx.rel_extraction_effs.find_docs(version='v3')"
   ]
  },
  {
   "cell_type": "code",
   "execution_count": null,
   "id": "49246833-0050-46d8-abcb-1f03e567ad8e",
   "metadata": {},
   "outputs": [],
   "source": [
    "rel_ext_eff[:3]"
   ]
  },
  {
   "cell_type": "code",
   "execution_count": null,
   "id": "6b6eb0c1-7bc2-4bb0-8b90-0354c857518b",
   "metadata": {},
   "outputs": [],
   "source": [
    "# lets sort by time and only get the ab partition\n",
    "rel_ext_eff = xd_db_stx.rel_extraction_effs.find_docs(version='v3', partition='ab', __sort='time')"
   ]
  },
  {
   "cell_type": "code",
   "execution_count": null,
   "id": "1fbb9f28-3c0f-47c7-898e-686d52a8ad84",
   "metadata": {},
   "outputs": [],
   "source": [
    "rel_ext_eff[-3:]"
   ]
  },
  {
   "cell_type": "code",
   "execution_count": null,
   "id": "b3b22a9d-47ea-458e-a6c2-680c237acfd3",
   "metadata": {},
   "outputs": [],
   "source": [
    "rel_ext_eff = xd_db_stx.rel_extraction_effs.find_docs(version='v3', \n",
    "                                                  run_id = '027434', \n",
    "                                                  partition = 'ab')"
   ]
  },
  {
   "cell_type": "code",
   "execution_count": null,
   "id": "a77279d9-79e3-4876-86dc-bf6b2c5e7c76",
   "metadata": {},
   "outputs": [],
   "source": [
    "rel_ext_eff"
   ]
  },
  {
   "cell_type": "markdown",
   "id": "904ef1cf-12e7-4404-9c3f-46838659c359",
   "metadata": {},
   "source": [
    "##### Data stored in xedocs have multiple indecies, and there is a requierment that all indecies are unique, therefore you can only save new data when it has indecies where the combination of all indecies is unique"
   ]
  },
  {
   "cell_type": "markdown",
   "id": "024f4f5d-a598-4843-8a87-e6dda11aa855",
   "metadata": {},
   "source": [
    "We can also access the Bodega data through schemas using 'DetectorNumber'"
   ]
  },
  {
   "cell_type": "code",
   "execution_count": null,
   "id": "4c3f5535-5976-40cd-b5c0-74335cb0e9b5",
   "metadata": {},
   "outputs": [],
   "source": [
    "xd_db_stx.detector_numbers.find_one(field='g1')"
   ]
  },
  {
   "cell_type": "code",
   "execution_count": null,
   "id": "ac834432-a56c-4252-a2a9-17763dec1e05",
   "metadata": {},
   "outputs": [],
   "source": [
    "se_gain = xd_db_stx.detector_numbers.find(field = 'se_gain')"
   ]
  },
  {
   "cell_type": "code",
   "execution_count": null,
   "id": "f9e5720e-20d7-4629-9171-1d2a83b0e172",
   "metadata": {},
   "outputs": [],
   "source": [
    "list(se_gain)"
   ]
  },
  {
   "cell_type": "markdown",
   "id": "6c4e9525-1706-4b30-a48b-8528d20a1472",
   "metadata": {},
   "source": [
    "### Saving data using xedocs"
   ]
  },
  {
   "cell_type": "markdown",
   "id": "5b852f3c-320d-48c9-9e10-6c07e0afd93d",
   "metadata": {},
   "source": [
    "To save new data using xedocs we need to know what indecies that particular schema has. By defualt all schemas will require a version and a run_id or time for the indecies and a value to actually upload. However other shcemas can have additional indecies you need to spesify such as algorithm for machine learning related currections such as 'mlp', 'cnn' and 'gcn', format of the data, among others. As such we need to first know what are the indecies required and then we can upload the data!"
   ]
  },
  {
   "cell_type": "markdown",
   "id": "a8613580-b9ed-4a53-bfea-776ce85f98a4",
   "metadata": {},
   "source": [
    "For this set of correction we will save the data to the development db."
   ]
  },
  {
   "cell_type": "code",
   "execution_count": null,
   "id": "1a257e35-7a06-45ab-8479-8e7380433de5",
   "metadata": {},
   "outputs": [],
   "source": [
    "run_id = '047493'"
   ]
  },
  {
   "cell_type": "code",
   "execution_count": null,
   "id": "1fe7f3a4-79b8-4d69-8b2d-919cc04d56eb",
   "metadata": {},
   "outputs": [],
   "source": [
    "# Get the ONLINE of elife for out run_id\n",
    "elife_online = xd_db_stx.electron_lifetimes.find_docs(version = 'ONLINE', run_id = run_id)"
   ]
  },
  {
   "cell_type": "code",
   "execution_count": null,
   "id": "f496514d-d15d-4614-b7ff-a835e43c8e1c",
   "metadata": {},
   "outputs": [],
   "source": [
    "list(xd_db_dev.electron_lifetimes.find(run_id = run_id))"
   ]
  },
  {
   "cell_type": "code",
   "execution_count": null,
   "id": "d4e470b5-d667-432a-b9be-d0b7a7526aac",
   "metadata": {},
   "outputs": [],
   "source": [
    "elife_new = xd.schemas.ElectronLifetime(value=elife_online[0].value*0.90, version='test*', \n",
    "                                        run_id=run_id, datasource = 'development_db',\n",
    "                                        comments='giving a 10% decrease to Electron lifetime')"
   ]
  },
  {
   "cell_type": "code",
   "execution_count": null,
   "id": "98f3f9cf-f587-410e-b9ea-6a35d9c56dc5",
   "metadata": {},
   "outputs": [],
   "source": [
    "xd_db_dev.electron_lifetimes.insert(elife_new)"
   ]
  },
  {
   "cell_type": "code",
   "execution_count": null,
   "id": "7bddf89a-3648-4eb1-9039-32a984b3c2a3",
   "metadata": {},
   "outputs": [],
   "source": [
    "list(xd_db_dev.electron_lifetimes.find(run_id = run_id))"
   ]
  },
  {
   "cell_type": "code",
   "execution_count": null,
   "id": "d8b80e36-99d9-4fbd-af5e-f9e39f7aa8e1",
   "metadata": {},
   "outputs": [],
   "source": [
    "elife_new = xd.schemas.ElectronLifetime(value=elife_online[0].value*0.80, version='test*2', \n",
    "                                        run_id=run_id, datasource = 'development_db',\n",
    "                                        comments='giving a 10% decrease to Electron lifetime')"
   ]
  },
  {
   "cell_type": "code",
   "execution_count": null,
   "id": "6c0080a2-fc1c-410f-8410-9ec71d135c10",
   "metadata": {},
   "outputs": [],
   "source": [
    "# there is another way to save this data\n",
    "xd.insert_docs('electron_lifetimes', elife_new, 'development_db')"
   ]
  },
  {
   "cell_type": "code",
   "execution_count": null,
   "id": "52a7f164-e50a-447e-8216-ff8357b43cd1",
   "metadata": {},
   "outputs": [],
   "source": [
    "list(xd_db_dev.electron_lifetimes.find(run_id = run_id))"
   ]
  },
  {
   "cell_type": "markdown",
   "id": "cd09a892-a9ff-4861-8a9d-6d1473888ff0",
   "metadata": {},
   "source": [
    "#### Now to save data in our own database!"
   ]
  },
  {
   "cell_type": "markdown",
   "id": "82f4d4ca-4db2-4978-a915-6f74c8aff0fd",
   "metadata": {},
   "source": [
    "You will not have access to the config file bellow, however if you have mongoDB installed locally you can just ommit the the host, username and password information and just connect to your local mongo_db. You can also call the database whatever you want."
   ]
  },
  {
   "cell_type": "code",
   "execution_count": null,
   "id": "ca8d9c09-c6a5-426d-81fc-f6708825014d",
   "metadata": {},
   "outputs": [],
   "source": [
    "import config\n",
    "\n",
    "host = config.mongo_rdb_url\n",
    "username = config.mongo_rdb_username\n",
    "password = config.mongo_rdb_password"
   ]
  },
  {
   "cell_type": "code",
   "execution_count": null,
   "id": "1977e7ac-f61b-479b-b6cb-82f4a7a7a578",
   "metadata": {},
   "outputs": [],
   "source": [
    "db = pymongo.MongoClient(host = host,\n",
    "                        username = username,\n",
    "                        password = password)['correctionsSandbox']"
   ]
  },
  {
   "cell_type": "code",
   "execution_count": null,
   "id": "bb2d859a-6f1f-4bac-b0db-f6159c017212",
   "metadata": {},
   "outputs": [],
   "source": [
    "xd.schemas.ElectronLifetime.find(version = 'test*', datasource = db['electron_lifetimes'])"
   ]
  },
  {
   "cell_type": "code",
   "execution_count": null,
   "id": "ecee7a54-e358-4371-94df-3c2101bd0108",
   "metadata": {},
   "outputs": [],
   "source": [
    "new_elife = xd.schemas.ElectronLifetime(value = 123456, version = 'test*', run_id = run_id)"
   ]
  },
  {
   "cell_type": "code",
   "execution_count": null,
   "id": "197aaf84-57b8-4b8f-9a01-2b30c42f6e89",
   "metadata": {},
   "outputs": [],
   "source": [
    "new_elife.save(db['electron_lifetimes'])"
   ]
  },
  {
   "cell_type": "code",
   "execution_count": null,
   "id": "70a9e5b9-9a16-43b5-8f75-e6b91a86bc99",
   "metadata": {},
   "outputs": [],
   "source": [
    "xd.schemas.ElectronLifetime.find(version = 'test*', datasource = db['electron_lifetimes'])"
   ]
  },
  {
   "cell_type": "markdown",
   "id": "2366e3f7-eb6b-4fc4-9fdf-c786d526cb12",
   "metadata": {},
   "source": [
    "Success! we have inserted data into our own mongo database!"
   ]
  },
  {
   "cell_type": "code",
   "execution_count": null,
   "id": "63666add-554f-4898-bf4f-c60ac9cdf643",
   "metadata": {},
   "outputs": [],
   "source": []
  }
 ],
 "metadata": {
  "kernelspec": {
   "display_name": "Python [conda env:strax]",
   "language": "python",
   "name": "conda-env-strax-py"
  },
  "language_info": {
   "codemirror_mode": {
    "name": "ipython",
    "version": 3
   },
   "file_extension": ".py",
   "mimetype": "text/x-python",
   "name": "python",
   "nbconvert_exporter": "python",
   "pygments_lexer": "ipython3",
   "version": "3.8.13"
  }
 },
 "nbformat": 4,
 "nbformat_minor": 5
}
