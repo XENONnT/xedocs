{
 "cells": [
  {
   "cell_type": "markdown",
   "id": "2541f34c-e312-4407-8393-7c0321b683a5",
   "metadata": {},
   "source": [
    "### Using URLConfigurations to reprocess data with straxen"
   ]
  },
  {
   "cell_type": "markdown",
   "id": "fa8fb100-6727-43f4-93df-8e87943663af",
   "metadata": {},
   "source": [
    "Note a fully guide showing how to use URL configurations for every correction will be on a separate notebook, this is just meant as a generic example"
   ]
  },
  {
   "cell_type": "code",
   "execution_count": 1,
   "id": "f276d407-2b73-4a94-b823-177878334b26",
   "metadata": {},
   "outputs": [
    {
     "name": "stderr",
     "output_type": "stream",
     "text": [
      "Could not import editors, GUI not available.\n"
     ]
    }
   ],
   "source": [
    "import strax\n",
    "import straxen\n",
    "import xedocs as xd\n",
    "import numpy as np\n",
    "import rframe\n",
    "import pymongo\n",
    "import matplotlib.pyplot as plt"
   ]
  },
  {
   "cell_type": "code",
   "execution_count": 2,
   "id": "fbe65dc9-4b17-4114-aa43-de66a9287754",
   "metadata": {},
   "outputs": [
    {
     "data": {
      "text/html": [
       "<div>\n",
       "<style scoped>\n",
       "    .dataframe tbody tr th:only-of-type {\n",
       "        vertical-align: middle;\n",
       "    }\n",
       "\n",
       "    .dataframe tbody tr th {\n",
       "        vertical-align: top;\n",
       "    }\n",
       "\n",
       "    .dataframe thead th {\n",
       "        text-align: right;\n",
       "    }\n",
       "</style>\n",
       "<table border=\"1\" class=\"dataframe\">\n",
       "  <thead>\n",
       "    <tr style=\"text-align: right;\">\n",
       "      <th></th>\n",
       "      <th>module</th>\n",
       "      <th>version</th>\n",
       "      <th>path</th>\n",
       "      <th>git</th>\n",
       "    </tr>\n",
       "  </thead>\n",
       "  <tbody>\n",
       "    <tr>\n",
       "      <th>0</th>\n",
       "      <td>python</td>\n",
       "      <td>3.8.13</td>\n",
       "      <td>/opt/conda/envs/strax/bin/python</td>\n",
       "      <td>None</td>\n",
       "    </tr>\n",
       "    <tr>\n",
       "      <th>1</th>\n",
       "      <td>strax</td>\n",
       "      <td>1.4.0</td>\n",
       "      <td>/home/luissanchez25/.local/lib/python3.8/site-...</td>\n",
       "      <td>branch:relative_light_yield_schema | 3cd255b</td>\n",
       "    </tr>\n",
       "    <tr>\n",
       "      <th>2</th>\n",
       "      <td>straxen</td>\n",
       "      <td>2.0.3</td>\n",
       "      <td>/home/luissanchez25/.local/lib/python3.8/site-...</td>\n",
       "      <td>branch:relative_light_yield_schema | 3cd255b</td>\n",
       "    </tr>\n",
       "    <tr>\n",
       "      <th>3</th>\n",
       "      <td>rframe</td>\n",
       "      <td>0.2.1</td>\n",
       "      <td>/home/luissanchez25/.local/lib/python3.8/site-...</td>\n",
       "      <td>branch:relative_light_yield_schema | 3cd255b</td>\n",
       "    </tr>\n",
       "    <tr>\n",
       "      <th>4</th>\n",
       "      <td>xedocs</td>\n",
       "      <td>0.2.8</td>\n",
       "      <td>/home/luissanchez25/.local/lib/python3.8/site-...</td>\n",
       "      <td>branch:relative_light_yield_schema | 3cd255b</td>\n",
       "    </tr>\n",
       "  </tbody>\n",
       "</table>\n",
       "</div>"
      ],
      "text/plain": [
       "    module version                                               path  \\\n",
       "0   python  3.8.13                   /opt/conda/envs/strax/bin/python   \n",
       "1    strax   1.4.0  /home/luissanchez25/.local/lib/python3.8/site-...   \n",
       "2  straxen   2.0.3  /home/luissanchez25/.local/lib/python3.8/site-...   \n",
       "3   rframe   0.2.1  /home/luissanchez25/.local/lib/python3.8/site-...   \n",
       "4   xedocs   0.2.8  /home/luissanchez25/.local/lib/python3.8/site-...   \n",
       "\n",
       "                                            git  \n",
       "0                                          None  \n",
       "1  branch:relative_light_yield_schema | 3cd255b  \n",
       "2  branch:relative_light_yield_schema | 3cd255b  \n",
       "3  branch:relative_light_yield_schema | 3cd255b  \n",
       "4  branch:relative_light_yield_schema | 3cd255b  "
      ]
     },
     "execution_count": 2,
     "metadata": {},
     "output_type": "execute_result"
    }
   ],
   "source": [
    "straxen.print_versions('strax straxen rframe xedocs'.split())"
   ]
  },
  {
   "cell_type": "markdown",
   "id": "78319fc6-0cbb-46ac-8d30-0d6bf66a6303",
   "metadata": {},
   "source": [
    "All corrections in straxen have been changed to use URLConfigurations as these are more flexible and do not require us to have to change straxen every time we what to update the corrections. There are protocols in straxen and xedocs that take in a string URL and with this they are able to find and load the requested data."
   ]
  },
  {
   "cell_type": "code",
   "execution_count": 3,
   "id": "2c30f340-f136-4d33-b55e-ae5d483121c5",
   "metadata": {},
   "outputs": [],
   "source": [
    "url = './test_data/'"
   ]
  },
  {
   "cell_type": "code",
   "execution_count": 4,
   "id": "13cc02c2-47be-4c71-93e3-6528bf249380",
   "metadata": {},
   "outputs": [],
   "source": [
    "run_id = '047493'"
   ]
  },
  {
   "cell_type": "code",
   "execution_count": 5,
   "id": "fb8c4c17-abc2-44b7-a01a-708a0364a61a",
   "metadata": {},
   "outputs": [],
   "source": [
    "st = straxen.contexts.xenonnt_online(output_folder = url, include_rucio_remote=True,download_heavy=True)"
   ]
  },
  {
   "cell_type": "code",
   "execution_count": 6,
   "id": "cc8e733e-390e-4c0e-918a-3a0541f02cd7",
   "metadata": {},
   "outputs": [],
   "source": [
    "st_xd = straxen.contexts.xenonnt_online(output_folder = url, include_rucio_remote=True,download_heavy=True)"
   ]
  },
  {
   "cell_type": "code",
   "execution_count": 8,
   "id": "f446ff40-642f-4d98-a7f2-d3ca12af3afb",
   "metadata": {},
   "outputs": [],
   "source": [
    "xd_db_stx = xd.straxen_db.utilix"
   ]
  },
  {
   "cell_type": "code",
   "execution_count": 9,
   "id": "1e4b7621-07ce-4366-85cc-27863ac9edca",
   "metadata": {},
   "outputs": [],
   "source": [
    "xd_db_dev = xd.development_db.utilix"
   ]
  },
  {
   "cell_type": "code",
   "execution_count": 18,
   "id": "3c7731e9-0453-4957-8d4e-8ae62f113c37",
   "metadata": {},
   "outputs": [
    {
     "data": {
      "text/plain": [
       "\n",
       "        Xenon ElectronLifetime Document\n",
       "        -------------------------------\n",
       " \n",
       "        Category:      corrections\n",
       "        Alias:         electron_lifetimes\n",
       "        Index:         version=test*, time=2022-09-13 11:14:46.741000\n",
       "        Values:        created_date=2023-01-24 17:20:42.436000, comments=giving a 10% decrease to Electron lifetime, reviews=[], value=7362379.160154001\n",
       "        "
      ]
     },
     "execution_count": 18,
     "metadata": {},
     "output_type": "execute_result"
    }
   ],
   "source": [
    "xd_db_dev.electron_lifetimes.find_one(version = 'test*', run_id = run_id)"
   ]
  },
  {
   "cell_type": "code",
   "execution_count": 28,
   "id": "832875bf-34c6-4a93-b79a-00d432a8aee6",
   "metadata": {},
   "outputs": [],
   "source": [
    "st_xd.set_config({'elife':'xedocs://'\n",
    "                  'electron_lifetimes'\n",
    "                  '?version=test*&db=development_db&run_id=047493&attr=value'})"
   ]
  },
  {
   "cell_type": "code",
   "execution_count": 25,
   "id": "74cbeff0-0631-4132-8746-35e0c93b39e9",
   "metadata": {},
   "outputs": [
    {
     "data": {
      "text/plain": [
       "8180421.28906"
      ]
     },
     "execution_count": 25,
     "metadata": {},
     "output_type": "execute_result"
    }
   ],
   "source": [
    "st.get_single_plugin(run_id, 'corrected_areas').elife"
   ]
  },
  {
   "cell_type": "code",
   "execution_count": 29,
   "id": "b7d219ad-4c1b-4b52-8a89-9589325675a0",
   "metadata": {},
   "outputs": [
    {
     "data": {
      "text/plain": [
       "7362379.160154001"
      ]
     },
     "execution_count": 29,
     "metadata": {},
     "output_type": "execute_result"
    }
   ],
   "source": [
    "st_xd.get_single_plugin(run_id, 'corrected_areas').elife"
   ]
  },
  {
   "cell_type": "markdown",
   "id": "a15f61a4-a08f-45bf-9deb-504bf113a326",
   "metadata": {},
   "source": [
    "As we can see we have successfully changed the corrections of electron lifetime to a different value, now all we have to do is reprocess!"
   ]
  },
  {
   "cell_type": "markdown",
   "id": "42928077-3e31-4758-9b2c-bdccfa7218b1",
   "metadata": {},
   "source": [
    "Only run the following lines if you have access to run 047493"
   ]
  },
  {
   "cell_type": "code",
   "execution_count": null,
   "id": "b51b337a-6526-4390-90aa-08b062c11204",
   "metadata": {},
   "outputs": [],
   "source": [
    "kr_ei_xd = st_xd.get_array(run_id, 'event_info')\n",
    "kr_ei = st.get_array(run_id, 'event_info')"
   ]
  },
  {
   "cell_type": "code",
   "execution_count": null,
   "id": "15ee04d3-352f-4714-b2dd-9f4e10c1b09b",
   "metadata": {},
   "outputs": [],
   "source": [
    "plt.hist(kr_ei_xd['cs2'], bins = np.linspace(80,2000, 100), histtype = 'step', color = 'purple', label = 'elife 1% deviation')\n",
    "plt.hist(kr_ei['cs2'], bins = np.linspace(80,2000, 100), histtype = 'step', color = 'orange', label = 'elife')\n",
    "plt.xlabel('cS2')\n",
    "plt.ylabel('count')\n",
    "plt.legend()"
   ]
  }
 ],
 "metadata": {
  "kernelspec": {
   "display_name": "Python [conda env:strax]",
   "language": "python",
   "name": "conda-env-strax-py"
  },
  "language_info": {
   "codemirror_mode": {
    "name": "ipython",
    "version": 3
   },
   "file_extension": ".py",
   "mimetype": "text/x-python",
   "name": "python",
   "nbconvert_exporter": "python",
   "pygments_lexer": "ipython3",
   "version": "3.8.13"
  }
 },
 "nbformat": 4,
 "nbformat_minor": 5
}
