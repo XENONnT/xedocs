{
 "cells": [
  {
   "cell_type": "markdown",
   "id": "76a2f7f8",
   "metadata": {},
   "source": [
    "# Prepare the jupyterlite environemt\n",
    "These steps are specific to the tutorial for running a python kernel written in web assembly. When running a regular python kernel, these can be skipped."
   ]
  },
  {
   "cell_type": "markdown",
   "id": "cb8cad4c",
   "metadata": {},
   "source": [
    "## install dependencies \n",
    "\n",
    "We dont install mongodb because it is not available in pure python so cannot be used in pyolite.\n",
    "instead we use a pandas dataframe for demonstration but all features work the same with a mongodb collection as a datasource"
   ]
  },
  {
   "cell_type": "code",
   "execution_count": null,
   "id": "c397c9ea",
   "metadata": {},
   "outputs": [],
   "source": [
    "import piplite\n",
    "\n",
    "await piplite.install('xedocs')"
   ]
  },
  {
   "cell_type": "markdown",
   "id": "e264f00e",
   "metadata": {},
   "source": [
    "## Fetch some sample data\n",
    "We must use the js fetch because the python ssl library is not compatible with pyolite.\n",
    "If we were in native python we could just supply the url to xedocs as the datasource and it would fetch the data automatically for us."
   ]
  },
  {
   "cell_type": "code",
   "execution_count": null,
   "id": "730d951b",
   "metadata": {},
   "outputs": [],
   "source": [
    "import io\n",
    "import pandas as pd\n",
    "from js import fetch\n",
    "\n",
    "url = \"https://raw.githubusercontent.com/XENONnT/xedocs/master//test_data/pmt_gains_random_data.csv\"\n",
    "\n",
    "r = await fetch(url)\n",
    "data = await r.text()\n",
    "f = io.StringIO(data)\n",
    "\n",
    "df = pd.read_csv(f)\n",
    "df['time'] = pd.to_datetime(df['time'])"
   ]
  },
  {
   "cell_type": "code",
   "execution_count": null,
   "id": "3391c2fc-f269-497d-bbf6-584a7d260677",
   "metadata": {},
   "outputs": [],
   "source": [
    "\n",
    "import datetime\n",
    "import xedocs\n",
    "\n",
    "# Create an arbitrary datetime object to demonstrate time based queries \n",
    "dtime = datetime.datetime(2022, 4, 4, 8, 1, 1)\n",
    "\n",
    "# here if we had access to the runs db (utilix installed), we could also pass run_id=XXXXX instead of the time\n",
    "# and it would use the center time of the run.\n",
    "xedocs.PmtGain.find_one(df, version='ONLINE', time=dtime, pmt=444)\n"
   ]
  },
  {
   "cell_type": "markdown",
   "id": "1db261f3-92a7-4613-9b90-680a4d707159",
   "metadata": {},
   "source": [
    "# RemoteFrame: pandas/xarray interface\n",
    "For convenience additional query APIs are implemented inspired for the pandas and xarray packages. Most of these methods return a padnas dataframe with the requested data selection."
   ]
  },
  {
   "cell_type": "code",
   "execution_count": null,
   "id": "d93b8cc5-4082-4681-998c-b0aa9f36bff9",
   "metadata": {},
   "outputs": [],
   "source": [
    "# The straxen.frames namespace holds a collection\n",
    "# of remote frames for all defined corrections\n",
    "\n",
    "gains_rf = xedocs.PmtGain.rframe(df)"
   ]
  },
  {
   "cell_type": "code",
   "execution_count": null,
   "id": "454edb55-31d1-43ae-b6ef-4ade4f89fc72",
   "metadata": {},
   "outputs": [],
   "source": [
    "# List the index names\n",
    "gains_rf.index_names"
   ]
  },
  {
   "cell_type": "markdown",
   "id": "4572e5b0-d325-4f0f-af57-7e882768bc06",
   "metadata": {},
   "source": [
    "### xarray api"
   ]
  },
  {
   "cell_type": "code",
   "execution_count": null,
   "id": "383e67a5-c1a0-41b2-99b2-b27f97977a04",
   "metadata": {},
   "outputs": [],
   "source": [
    "# calling the .sel() method returns a pandas\n",
    "# dataframe with the selection result\n",
    "\n",
    "df = gains_rf.sel(detector='tpc', version='ONLINE', time=dtime).df\n",
    "df"
   ]
  },
  {
   "cell_type": "markdown",
   "id": "0830c872-b46c-489a-bf9e-005bdd959002",
   "metadata": {},
   "source": [
    "### pandas api"
   ]
  },
  {
   "cell_type": "code",
   "execution_count": null,
   "id": "69238cdf-0206-4a7f-94a6-24111f2604be",
   "metadata": {},
   "outputs": [],
   "source": [
    "# pandas style multi-indexing also returns a pandas\n",
    "# dataframe with the selection result\n",
    "\n",
    "df = gains_rf.loc['ONLINE',dtime,'tpc'].df\n",
    "df"
   ]
  },
  {
   "cell_type": "markdown",
   "id": "5751f965-59c7-4a70-bdd5-589337c9f7b0",
   "metadata": {},
   "source": [
    "#### Scalar lookup"
   ]
  },
  {
   "cell_type": "code",
   "execution_count": null,
   "id": "9c51d7ee-b5e1-4838-9a7d-cb4b9143371d",
   "metadata": {},
   "outputs": [],
   "source": [
    "# pandas api\n",
    "\n",
    "gains_rf.at[('ONLINE',dtime,'tpc',344), 'value']"
   ]
  },
  {
   "cell_type": "code",
   "execution_count": null,
   "id": "a70f0e29-06e6-42ce-a234-415848f77de3",
   "metadata": {},
   "outputs": [],
   "source": [
    "# simple callable\n",
    "\n",
    "gains_rf('value', detector='tpc', version='ONLINE', time=dtime, pmt=344)"
   ]
  }
 ],
 "metadata": {
  "interpreter": {
   "hash": "8d4a9e3b1cf48e7d8286c31499bf7742482148cf175b8290d37db65f7b4a0399"
  },
  "kernelspec": {
   "display_name": "straxen-dev",
   "language": "python",
   "name": "python3"
  },
  "language_info": {
   "codemirror_mode": {
    "name": "ipython",
    "version": 3
   },
   "file_extension": ".py",
   "mimetype": "text/x-python",
   "name": "python",
   "nbconvert_exporter": "python",
   "pygments_lexer": "ipython3",
   "version": "3.8.0"
  }
 },
 "nbformat": 4,
 "nbformat_minor": 5
}
